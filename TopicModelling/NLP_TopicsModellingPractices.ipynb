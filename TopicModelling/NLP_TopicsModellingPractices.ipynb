{
  "nbformat": 4,
  "nbformat_minor": 0,
  "metadata": {
    "colab": {
      "provenance": [],
      "authorship_tag": "ABX9TyNOQnzv2cLd/DGrjBdFtK4n",
      "include_colab_link": true
    },
    "kernelspec": {
      "name": "python3",
      "display_name": "Python 3"
    },
    "language_info": {
      "name": "python"
    },
    "widgets": {
      "application/vnd.jupyter.widget-state+json": {
        "6e2435b8e8cb4c93adeccd4f83b18f68": {
          "model_module": "@jupyter-widgets/controls",
          "model_name": "HBoxModel",
          "model_module_version": "1.5.0",
          "state": {
            "_dom_classes": [],
            "_model_module": "@jupyter-widgets/controls",
            "_model_module_version": "1.5.0",
            "_model_name": "HBoxModel",
            "_view_count": null,
            "_view_module": "@jupyter-widgets/controls",
            "_view_module_version": "1.5.0",
            "_view_name": "HBoxView",
            "box_style": "",
            "children": [
              "IPY_MODEL_5c7556693cbb4e878b996f468707e60f",
              "IPY_MODEL_3ac5d54e46aa45539680e6c34fe9f91e",
              "IPY_MODEL_3ff1005f40c94cf5890fd377ddf20bfd"
            ],
            "layout": "IPY_MODEL_98e8b10e2b0148589cd75863cac1743f"
          }
        },
        "5c7556693cbb4e878b996f468707e60f": {
          "model_module": "@jupyter-widgets/controls",
          "model_name": "HTMLModel",
          "model_module_version": "1.5.0",
          "state": {
            "_dom_classes": [],
            "_model_module": "@jupyter-widgets/controls",
            "_model_module_version": "1.5.0",
            "_model_name": "HTMLModel",
            "_view_count": null,
            "_view_module": "@jupyter-widgets/controls",
            "_view_module_version": "1.5.0",
            "_view_name": "HTMLView",
            "description": "",
            "description_tooltip": null,
            "layout": "IPY_MODEL_fda9d03e23a2490e9d16cfbde4815bc8",
            "placeholder": "​",
            "style": "IPY_MODEL_cdd0912052794a9a83d89d2ebb7c57b1",
            "value": "Batches: 100%"
          }
        },
        "3ac5d54e46aa45539680e6c34fe9f91e": {
          "model_module": "@jupyter-widgets/controls",
          "model_name": "FloatProgressModel",
          "model_module_version": "1.5.0",
          "state": {
            "_dom_classes": [],
            "_model_module": "@jupyter-widgets/controls",
            "_model_module_version": "1.5.0",
            "_model_name": "FloatProgressModel",
            "_view_count": null,
            "_view_module": "@jupyter-widgets/controls",
            "_view_module_version": "1.5.0",
            "_view_name": "ProgressView",
            "bar_style": "success",
            "description": "",
            "description_tooltip": null,
            "layout": "IPY_MODEL_6abed975fb7242d6ad5c7bd14ff19db6",
            "max": 80,
            "min": 0,
            "orientation": "horizontal",
            "style": "IPY_MODEL_5ef06f1cb31c4b998e58b84360ffef1d",
            "value": 80
          }
        },
        "3ff1005f40c94cf5890fd377ddf20bfd": {
          "model_module": "@jupyter-widgets/controls",
          "model_name": "HTMLModel",
          "model_module_version": "1.5.0",
          "state": {
            "_dom_classes": [],
            "_model_module": "@jupyter-widgets/controls",
            "_model_module_version": "1.5.0",
            "_model_name": "HTMLModel",
            "_view_count": null,
            "_view_module": "@jupyter-widgets/controls",
            "_view_module_version": "1.5.0",
            "_view_name": "HTMLView",
            "description": "",
            "description_tooltip": null,
            "layout": "IPY_MODEL_56b04f5414ad400e9f7b5d7cc11ab132",
            "placeholder": "​",
            "style": "IPY_MODEL_b0f3947f03b544f6991c51bb207c6522",
            "value": " 80/80 [03:33&lt;00:00,  1.76s/it]"
          }
        },
        "98e8b10e2b0148589cd75863cac1743f": {
          "model_module": "@jupyter-widgets/base",
          "model_name": "LayoutModel",
          "model_module_version": "1.2.0",
          "state": {
            "_model_module": "@jupyter-widgets/base",
            "_model_module_version": "1.2.0",
            "_model_name": "LayoutModel",
            "_view_count": null,
            "_view_module": "@jupyter-widgets/base",
            "_view_module_version": "1.2.0",
            "_view_name": "LayoutView",
            "align_content": null,
            "align_items": null,
            "align_self": null,
            "border": null,
            "bottom": null,
            "display": null,
            "flex": null,
            "flex_flow": null,
            "grid_area": null,
            "grid_auto_columns": null,
            "grid_auto_flow": null,
            "grid_auto_rows": null,
            "grid_column": null,
            "grid_gap": null,
            "grid_row": null,
            "grid_template_areas": null,
            "grid_template_columns": null,
            "grid_template_rows": null,
            "height": null,
            "justify_content": null,
            "justify_items": null,
            "left": null,
            "margin": null,
            "max_height": null,
            "max_width": null,
            "min_height": null,
            "min_width": null,
            "object_fit": null,
            "object_position": null,
            "order": null,
            "overflow": null,
            "overflow_x": null,
            "overflow_y": null,
            "padding": null,
            "right": null,
            "top": null,
            "visibility": null,
            "width": null
          }
        },
        "fda9d03e23a2490e9d16cfbde4815bc8": {
          "model_module": "@jupyter-widgets/base",
          "model_name": "LayoutModel",
          "model_module_version": "1.2.0",
          "state": {
            "_model_module": "@jupyter-widgets/base",
            "_model_module_version": "1.2.0",
            "_model_name": "LayoutModel",
            "_view_count": null,
            "_view_module": "@jupyter-widgets/base",
            "_view_module_version": "1.2.0",
            "_view_name": "LayoutView",
            "align_content": null,
            "align_items": null,
            "align_self": null,
            "border": null,
            "bottom": null,
            "display": null,
            "flex": null,
            "flex_flow": null,
            "grid_area": null,
            "grid_auto_columns": null,
            "grid_auto_flow": null,
            "grid_auto_rows": null,
            "grid_column": null,
            "grid_gap": null,
            "grid_row": null,
            "grid_template_areas": null,
            "grid_template_columns": null,
            "grid_template_rows": null,
            "height": null,
            "justify_content": null,
            "justify_items": null,
            "left": null,
            "margin": null,
            "max_height": null,
            "max_width": null,
            "min_height": null,
            "min_width": null,
            "object_fit": null,
            "object_position": null,
            "order": null,
            "overflow": null,
            "overflow_x": null,
            "overflow_y": null,
            "padding": null,
            "right": null,
            "top": null,
            "visibility": null,
            "width": null
          }
        },
        "cdd0912052794a9a83d89d2ebb7c57b1": {
          "model_module": "@jupyter-widgets/controls",
          "model_name": "DescriptionStyleModel",
          "model_module_version": "1.5.0",
          "state": {
            "_model_module": "@jupyter-widgets/controls",
            "_model_module_version": "1.5.0",
            "_model_name": "DescriptionStyleModel",
            "_view_count": null,
            "_view_module": "@jupyter-widgets/base",
            "_view_module_version": "1.2.0",
            "_view_name": "StyleView",
            "description_width": ""
          }
        },
        "6abed975fb7242d6ad5c7bd14ff19db6": {
          "model_module": "@jupyter-widgets/base",
          "model_name": "LayoutModel",
          "model_module_version": "1.2.0",
          "state": {
            "_model_module": "@jupyter-widgets/base",
            "_model_module_version": "1.2.0",
            "_model_name": "LayoutModel",
            "_view_count": null,
            "_view_module": "@jupyter-widgets/base",
            "_view_module_version": "1.2.0",
            "_view_name": "LayoutView",
            "align_content": null,
            "align_items": null,
            "align_self": null,
            "border": null,
            "bottom": null,
            "display": null,
            "flex": null,
            "flex_flow": null,
            "grid_area": null,
            "grid_auto_columns": null,
            "grid_auto_flow": null,
            "grid_auto_rows": null,
            "grid_column": null,
            "grid_gap": null,
            "grid_row": null,
            "grid_template_areas": null,
            "grid_template_columns": null,
            "grid_template_rows": null,
            "height": null,
            "justify_content": null,
            "justify_items": null,
            "left": null,
            "margin": null,
            "max_height": null,
            "max_width": null,
            "min_height": null,
            "min_width": null,
            "object_fit": null,
            "object_position": null,
            "order": null,
            "overflow": null,
            "overflow_x": null,
            "overflow_y": null,
            "padding": null,
            "right": null,
            "top": null,
            "visibility": null,
            "width": null
          }
        },
        "5ef06f1cb31c4b998e58b84360ffef1d": {
          "model_module": "@jupyter-widgets/controls",
          "model_name": "ProgressStyleModel",
          "model_module_version": "1.5.0",
          "state": {
            "_model_module": "@jupyter-widgets/controls",
            "_model_module_version": "1.5.0",
            "_model_name": "ProgressStyleModel",
            "_view_count": null,
            "_view_module": "@jupyter-widgets/base",
            "_view_module_version": "1.2.0",
            "_view_name": "StyleView",
            "bar_color": null,
            "description_width": ""
          }
        },
        "56b04f5414ad400e9f7b5d7cc11ab132": {
          "model_module": "@jupyter-widgets/base",
          "model_name": "LayoutModel",
          "model_module_version": "1.2.0",
          "state": {
            "_model_module": "@jupyter-widgets/base",
            "_model_module_version": "1.2.0",
            "_model_name": "LayoutModel",
            "_view_count": null,
            "_view_module": "@jupyter-widgets/base",
            "_view_module_version": "1.2.0",
            "_view_name": "LayoutView",
            "align_content": null,
            "align_items": null,
            "align_self": null,
            "border": null,
            "bottom": null,
            "display": null,
            "flex": null,
            "flex_flow": null,
            "grid_area": null,
            "grid_auto_columns": null,
            "grid_auto_flow": null,
            "grid_auto_rows": null,
            "grid_column": null,
            "grid_gap": null,
            "grid_row": null,
            "grid_template_areas": null,
            "grid_template_columns": null,
            "grid_template_rows": null,
            "height": null,
            "justify_content": null,
            "justify_items": null,
            "left": null,
            "margin": null,
            "max_height": null,
            "max_width": null,
            "min_height": null,
            "min_width": null,
            "object_fit": null,
            "object_position": null,
            "order": null,
            "overflow": null,
            "overflow_x": null,
            "overflow_y": null,
            "padding": null,
            "right": null,
            "top": null,
            "visibility": null,
            "width": null
          }
        },
        "b0f3947f03b544f6991c51bb207c6522": {
          "model_module": "@jupyter-widgets/controls",
          "model_name": "DescriptionStyleModel",
          "model_module_version": "1.5.0",
          "state": {
            "_model_module": "@jupyter-widgets/controls",
            "_model_module_version": "1.5.0",
            "_model_name": "DescriptionStyleModel",
            "_view_count": null,
            "_view_module": "@jupyter-widgets/base",
            "_view_module_version": "1.2.0",
            "_view_name": "StyleView",
            "description_width": ""
          }
        },
        "5fb5628de2464b0da61b12c5422c0695": {
          "model_module": "@jupyter-widgets/output",
          "model_name": "OutputModel",
          "model_module_version": "1.0.0",
          "state": {
            "_dom_classes": [],
            "_model_module": "@jupyter-widgets/output",
            "_model_module_version": "1.0.0",
            "_model_name": "OutputModel",
            "_view_count": null,
            "_view_module": "@jupyter-widgets/output",
            "_view_module_version": "1.0.0",
            "_view_name": "OutputView",
            "layout": "IPY_MODEL_1e451a57f9fe43ada28c942a99884bb6",
            "msg_id": "",
            "outputs": [
              {
                "output_type": "display_data",
                "data": {
                  "text/plain": "\u001b[32m⠧\u001b[0m Encoding vocabulary\n",
                  "text/html": "<pre style=\"white-space:pre;overflow-x:auto;line-height:normal;font-family:Menlo,'DejaVu Sans Mono',consolas,'Courier New',monospace\"><span style=\"color: #008000; text-decoration-color: #008000\">⠧</span> Encoding vocabulary\n</pre>\n"
                },
                "metadata": {}
              }
            ]
          }
        },
        "1e451a57f9fe43ada28c942a99884bb6": {
          "model_module": "@jupyter-widgets/base",
          "model_name": "LayoutModel",
          "model_module_version": "1.2.0",
          "state": {
            "_model_module": "@jupyter-widgets/base",
            "_model_module_version": "1.2.0",
            "_model_name": "LayoutModel",
            "_view_count": null,
            "_view_module": "@jupyter-widgets/base",
            "_view_module_version": "1.2.0",
            "_view_name": "LayoutView",
            "align_content": null,
            "align_items": null,
            "align_self": null,
            "border": null,
            "bottom": null,
            "display": null,
            "flex": null,
            "flex_flow": null,
            "grid_area": null,
            "grid_auto_columns": null,
            "grid_auto_flow": null,
            "grid_auto_rows": null,
            "grid_column": null,
            "grid_gap": null,
            "grid_row": null,
            "grid_template_areas": null,
            "grid_template_columns": null,
            "grid_template_rows": null,
            "height": null,
            "justify_content": null,
            "justify_items": null,
            "left": null,
            "margin": null,
            "max_height": null,
            "max_width": null,
            "min_height": null,
            "min_width": null,
            "object_fit": null,
            "object_position": null,
            "order": null,
            "overflow": null,
            "overflow_x": null,
            "overflow_y": null,
            "padding": null,
            "right": null,
            "top": null,
            "visibility": null,
            "width": null
          }
        }
      }
    }
  },
  "cells": [
    {
      "cell_type": "markdown",
      "metadata": {
        "id": "view-in-github",
        "colab_type": "text"
      },
      "source": [
        "<a href=\"https://colab.research.google.com/github/raz0208/Natural-Language-Processing-Practices/blob/main/TopicModelling/NLP_TopicsModellingPractices.ipynb\" target=\"_parent\"><img src=\"https://colab.research.google.com/assets/colab-badge.svg\" alt=\"Open In Colab\"/></a>"
      ]
    },
    {
      "cell_type": "markdown",
      "source": [
        "## Topic Modelling Practices in NLP\n",
        "\n",
        "\n",
        "1. Semantic Signal Separation\n",
        "2. KeyNMF\n",
        "3. ClusteringTopicModel\n",
        "\n"
      ],
      "metadata": {
        "id": "nHqxATBNlcm_"
      }
    },
    {
      "cell_type": "markdown",
      "source": [
        "### 1. Semantic Signal Separation"
      ],
      "metadata": {
        "id": "ru6Z30zIl1Md"
      }
    },
    {
      "cell_type": "code",
      "source": [
        "# Install turftopic libraries\n",
        "!pip install turftopic\n",
        "!pip install datasets"
      ],
      "metadata": {
        "colab": {
          "base_uri": "https://localhost:8080/"
        },
        "collapsed": true,
        "id": "Z5NpSq-rl-c1",
        "outputId": "42078b66-f5c2-42e6-a047-b490da8d378b"
      },
      "execution_count": 31,
      "outputs": [
        {
          "output_type": "stream",
          "name": "stdout",
          "text": [
            "Requirement already satisfied: turftopic in /usr/local/lib/python3.11/dist-packages (0.17.1)\n",
            "Requirement already satisfied: huggingface-hub<1.0.0,>=0.23.2 in /usr/local/lib/python3.11/dist-packages (from turftopic) (0.31.4)\n",
            "Requirement already satisfied: igraph<0.12.0,>=0.11.6 in /usr/local/lib/python3.11/dist-packages (from turftopic) (0.11.8)\n",
            "Requirement already satisfied: joblib<2.0.0,>=1.2.0 in /usr/local/lib/python3.11/dist-packages (from turftopic) (1.5.0)\n",
            "Requirement already satisfied: numpy>=1.23.0 in /usr/local/lib/python3.11/dist-packages (from turftopic) (2.0.2)\n",
            "Requirement already satisfied: pillow<10.5.0,>=10.4.0 in /usr/local/lib/python3.11/dist-packages (from turftopic) (10.4.0)\n",
            "Requirement already satisfied: rich<14.0.0,>=13.6.0 in /usr/local/lib/python3.11/dist-packages (from turftopic) (13.9.4)\n",
            "Requirement already satisfied: scikit-learn<2.0.0,>=1.3.0 in /usr/local/lib/python3.11/dist-packages (from turftopic) (1.6.1)\n",
            "Requirement already satisfied: scipy<2.0.0,>=1.10.0 in /usr/local/lib/python3.11/dist-packages (from turftopic) (1.15.3)\n",
            "Requirement already satisfied: sentence-transformers>=2.2.0 in /usr/local/lib/python3.11/dist-packages (from turftopic) (4.1.0)\n",
            "Requirement already satisfied: torch<3.0.0,>=2.1.0 in /usr/local/lib/python3.11/dist-packages (from turftopic) (2.6.0+cu124)\n",
            "Requirement already satisfied: filelock in /usr/local/lib/python3.11/dist-packages (from huggingface-hub<1.0.0,>=0.23.2->turftopic) (3.18.0)\n",
            "Requirement already satisfied: fsspec>=2023.5.0 in /usr/local/lib/python3.11/dist-packages (from huggingface-hub<1.0.0,>=0.23.2->turftopic) (2025.3.2)\n",
            "Requirement already satisfied: packaging>=20.9 in /usr/local/lib/python3.11/dist-packages (from huggingface-hub<1.0.0,>=0.23.2->turftopic) (24.2)\n",
            "Requirement already satisfied: pyyaml>=5.1 in /usr/local/lib/python3.11/dist-packages (from huggingface-hub<1.0.0,>=0.23.2->turftopic) (6.0.2)\n",
            "Requirement already satisfied: requests in /usr/local/lib/python3.11/dist-packages (from huggingface-hub<1.0.0,>=0.23.2->turftopic) (2.32.3)\n",
            "Requirement already satisfied: tqdm>=4.42.1 in /usr/local/lib/python3.11/dist-packages (from huggingface-hub<1.0.0,>=0.23.2->turftopic) (4.67.1)\n",
            "Requirement already satisfied: typing-extensions>=3.7.4.3 in /usr/local/lib/python3.11/dist-packages (from huggingface-hub<1.0.0,>=0.23.2->turftopic) (4.13.2)\n",
            "Requirement already satisfied: texttable>=1.6.2 in /usr/local/lib/python3.11/dist-packages (from igraph<0.12.0,>=0.11.6->turftopic) (1.7.0)\n",
            "Requirement already satisfied: markdown-it-py>=2.2.0 in /usr/local/lib/python3.11/dist-packages (from rich<14.0.0,>=13.6.0->turftopic) (3.0.0)\n",
            "Requirement already satisfied: pygments<3.0.0,>=2.13.0 in /usr/local/lib/python3.11/dist-packages (from rich<14.0.0,>=13.6.0->turftopic) (2.19.1)\n",
            "Requirement already satisfied: threadpoolctl>=3.1.0 in /usr/local/lib/python3.11/dist-packages (from scikit-learn<2.0.0,>=1.3.0->turftopic) (3.6.0)\n",
            "Requirement already satisfied: transformers<5.0.0,>=4.41.0 in /usr/local/lib/python3.11/dist-packages (from sentence-transformers>=2.2.0->turftopic) (4.52.2)\n",
            "Requirement already satisfied: networkx in /usr/local/lib/python3.11/dist-packages (from torch<3.0.0,>=2.1.0->turftopic) (3.4.2)\n",
            "Requirement already satisfied: jinja2 in /usr/local/lib/python3.11/dist-packages (from torch<3.0.0,>=2.1.0->turftopic) (3.1.6)\n",
            "Requirement already satisfied: nvidia-cuda-nvrtc-cu12==12.4.127 in /usr/local/lib/python3.11/dist-packages (from torch<3.0.0,>=2.1.0->turftopic) (12.4.127)\n",
            "Requirement already satisfied: nvidia-cuda-runtime-cu12==12.4.127 in /usr/local/lib/python3.11/dist-packages (from torch<3.0.0,>=2.1.0->turftopic) (12.4.127)\n",
            "Requirement already satisfied: nvidia-cuda-cupti-cu12==12.4.127 in /usr/local/lib/python3.11/dist-packages (from torch<3.0.0,>=2.1.0->turftopic) (12.4.127)\n",
            "Requirement already satisfied: nvidia-cudnn-cu12==9.1.0.70 in /usr/local/lib/python3.11/dist-packages (from torch<3.0.0,>=2.1.0->turftopic) (9.1.0.70)\n",
            "Requirement already satisfied: nvidia-cublas-cu12==12.4.5.8 in /usr/local/lib/python3.11/dist-packages (from torch<3.0.0,>=2.1.0->turftopic) (12.4.5.8)\n",
            "Requirement already satisfied: nvidia-cufft-cu12==11.2.1.3 in /usr/local/lib/python3.11/dist-packages (from torch<3.0.0,>=2.1.0->turftopic) (11.2.1.3)\n",
            "Requirement already satisfied: nvidia-curand-cu12==10.3.5.147 in /usr/local/lib/python3.11/dist-packages (from torch<3.0.0,>=2.1.0->turftopic) (10.3.5.147)\n",
            "Requirement already satisfied: nvidia-cusolver-cu12==11.6.1.9 in /usr/local/lib/python3.11/dist-packages (from torch<3.0.0,>=2.1.0->turftopic) (11.6.1.9)\n",
            "Requirement already satisfied: nvidia-cusparse-cu12==12.3.1.170 in /usr/local/lib/python3.11/dist-packages (from torch<3.0.0,>=2.1.0->turftopic) (12.3.1.170)\n",
            "Requirement already satisfied: nvidia-cusparselt-cu12==0.6.2 in /usr/local/lib/python3.11/dist-packages (from torch<3.0.0,>=2.1.0->turftopic) (0.6.2)\n",
            "Requirement already satisfied: nvidia-nccl-cu12==2.21.5 in /usr/local/lib/python3.11/dist-packages (from torch<3.0.0,>=2.1.0->turftopic) (2.21.5)\n",
            "Requirement already satisfied: nvidia-nvtx-cu12==12.4.127 in /usr/local/lib/python3.11/dist-packages (from torch<3.0.0,>=2.1.0->turftopic) (12.4.127)\n",
            "Requirement already satisfied: nvidia-nvjitlink-cu12==12.4.127 in /usr/local/lib/python3.11/dist-packages (from torch<3.0.0,>=2.1.0->turftopic) (12.4.127)\n",
            "Requirement already satisfied: triton==3.2.0 in /usr/local/lib/python3.11/dist-packages (from torch<3.0.0,>=2.1.0->turftopic) (3.2.0)\n",
            "Requirement already satisfied: sympy==1.13.1 in /usr/local/lib/python3.11/dist-packages (from torch<3.0.0,>=2.1.0->turftopic) (1.13.1)\n",
            "Requirement already satisfied: mpmath<1.4,>=1.1.0 in /usr/local/lib/python3.11/dist-packages (from sympy==1.13.1->torch<3.0.0,>=2.1.0->turftopic) (1.3.0)\n",
            "Requirement already satisfied: mdurl~=0.1 in /usr/local/lib/python3.11/dist-packages (from markdown-it-py>=2.2.0->rich<14.0.0,>=13.6.0->turftopic) (0.1.2)\n",
            "Requirement already satisfied: regex!=2019.12.17 in /usr/local/lib/python3.11/dist-packages (from transformers<5.0.0,>=4.41.0->sentence-transformers>=2.2.0->turftopic) (2024.11.6)\n",
            "Requirement already satisfied: tokenizers<0.22,>=0.21 in /usr/local/lib/python3.11/dist-packages (from transformers<5.0.0,>=4.41.0->sentence-transformers>=2.2.0->turftopic) (0.21.1)\n",
            "Requirement already satisfied: safetensors>=0.4.3 in /usr/local/lib/python3.11/dist-packages (from transformers<5.0.0,>=4.41.0->sentence-transformers>=2.2.0->turftopic) (0.5.3)\n",
            "Requirement already satisfied: MarkupSafe>=2.0 in /usr/local/lib/python3.11/dist-packages (from jinja2->torch<3.0.0,>=2.1.0->turftopic) (3.0.2)\n",
            "Requirement already satisfied: charset-normalizer<4,>=2 in /usr/local/lib/python3.11/dist-packages (from requests->huggingface-hub<1.0.0,>=0.23.2->turftopic) (3.4.2)\n",
            "Requirement already satisfied: idna<4,>=2.5 in /usr/local/lib/python3.11/dist-packages (from requests->huggingface-hub<1.0.0,>=0.23.2->turftopic) (3.10)\n",
            "Requirement already satisfied: urllib3<3,>=1.21.1 in /usr/local/lib/python3.11/dist-packages (from requests->huggingface-hub<1.0.0,>=0.23.2->turftopic) (2.4.0)\n",
            "Requirement already satisfied: certifi>=2017.4.17 in /usr/local/lib/python3.11/dist-packages (from requests->huggingface-hub<1.0.0,>=0.23.2->turftopic) (2025.4.26)\n",
            "Requirement already satisfied: datasets in /usr/local/lib/python3.11/dist-packages (2.14.4)\n",
            "Requirement already satisfied: numpy>=1.17 in /usr/local/lib/python3.11/dist-packages (from datasets) (2.0.2)\n",
            "Requirement already satisfied: pyarrow>=8.0.0 in /usr/local/lib/python3.11/dist-packages (from datasets) (18.1.0)\n",
            "Requirement already satisfied: dill<0.3.8,>=0.3.0 in /usr/local/lib/python3.11/dist-packages (from datasets) (0.3.7)\n",
            "Requirement already satisfied: pandas in /usr/local/lib/python3.11/dist-packages (from datasets) (2.2.2)\n",
            "Requirement already satisfied: requests>=2.19.0 in /usr/local/lib/python3.11/dist-packages (from datasets) (2.32.3)\n",
            "Requirement already satisfied: tqdm>=4.62.1 in /usr/local/lib/python3.11/dist-packages (from datasets) (4.67.1)\n",
            "Requirement already satisfied: xxhash in /usr/local/lib/python3.11/dist-packages (from datasets) (3.5.0)\n",
            "Requirement already satisfied: multiprocess in /usr/local/lib/python3.11/dist-packages (from datasets) (0.70.15)\n",
            "Requirement already satisfied: fsspec>=2021.11.1 in /usr/local/lib/python3.11/dist-packages (from fsspec[http]>=2021.11.1->datasets) (2025.3.2)\n",
            "Requirement already satisfied: aiohttp in /usr/local/lib/python3.11/dist-packages (from datasets) (3.11.15)\n",
            "Requirement already satisfied: huggingface-hub<1.0.0,>=0.14.0 in /usr/local/lib/python3.11/dist-packages (from datasets) (0.31.4)\n",
            "Requirement already satisfied: packaging in /usr/local/lib/python3.11/dist-packages (from datasets) (24.2)\n",
            "Requirement already satisfied: pyyaml>=5.1 in /usr/local/lib/python3.11/dist-packages (from datasets) (6.0.2)\n",
            "Requirement already satisfied: aiohappyeyeballs>=2.3.0 in /usr/local/lib/python3.11/dist-packages (from aiohttp->datasets) (2.6.1)\n",
            "Requirement already satisfied: aiosignal>=1.1.2 in /usr/local/lib/python3.11/dist-packages (from aiohttp->datasets) (1.3.2)\n",
            "Requirement already satisfied: attrs>=17.3.0 in /usr/local/lib/python3.11/dist-packages (from aiohttp->datasets) (25.3.0)\n",
            "Requirement already satisfied: frozenlist>=1.1.1 in /usr/local/lib/python3.11/dist-packages (from aiohttp->datasets) (1.6.0)\n",
            "Requirement already satisfied: multidict<7.0,>=4.5 in /usr/local/lib/python3.11/dist-packages (from aiohttp->datasets) (6.4.4)\n",
            "Requirement already satisfied: propcache>=0.2.0 in /usr/local/lib/python3.11/dist-packages (from aiohttp->datasets) (0.3.1)\n",
            "Requirement already satisfied: yarl<2.0,>=1.17.0 in /usr/local/lib/python3.11/dist-packages (from aiohttp->datasets) (1.20.0)\n",
            "Requirement already satisfied: filelock in /usr/local/lib/python3.11/dist-packages (from huggingface-hub<1.0.0,>=0.14.0->datasets) (3.18.0)\n",
            "Requirement already satisfied: typing-extensions>=3.7.4.3 in /usr/local/lib/python3.11/dist-packages (from huggingface-hub<1.0.0,>=0.14.0->datasets) (4.13.2)\n",
            "Requirement already satisfied: charset-normalizer<4,>=2 in /usr/local/lib/python3.11/dist-packages (from requests>=2.19.0->datasets) (3.4.2)\n",
            "Requirement already satisfied: idna<4,>=2.5 in /usr/local/lib/python3.11/dist-packages (from requests>=2.19.0->datasets) (3.10)\n",
            "Requirement already satisfied: urllib3<3,>=1.21.1 in /usr/local/lib/python3.11/dist-packages (from requests>=2.19.0->datasets) (2.4.0)\n",
            "Requirement already satisfied: certifi>=2017.4.17 in /usr/local/lib/python3.11/dist-packages (from requests>=2.19.0->datasets) (2025.4.26)\n",
            "Requirement already satisfied: python-dateutil>=2.8.2 in /usr/local/lib/python3.11/dist-packages (from pandas->datasets) (2.9.0.post0)\n",
            "Requirement already satisfied: pytz>=2020.1 in /usr/local/lib/python3.11/dist-packages (from pandas->datasets) (2025.2)\n",
            "Requirement already satisfied: tzdata>=2022.7 in /usr/local/lib/python3.11/dist-packages (from pandas->datasets) (2025.2)\n",
            "Requirement already satisfied: six>=1.5 in /usr/local/lib/python3.11/dist-packages (from python-dateutil>=2.8.2->pandas->datasets) (1.17.0)\n"
          ]
        }
      ]
    },
    {
      "cell_type": "code",
      "source": [
        "# import required libraries\n",
        "import pandas as pd\n",
        "import numpy as np\n",
        "import seaborn as sns\n",
        "import matplotlib.pyplot as plt\n",
        "import os\n",
        "from turftopic import SemanticSignalSeparation\n",
        "from datasets import load_dataset\n",
        "from sentence_transformers import SentenceTransformer"
      ],
      "metadata": {
        "id": "afG-cO0bm85O"
      },
      "execution_count": 32,
      "outputs": []
    },
    {
      "cell_type": "code",
      "source": [
        "# Read and load dataset\n",
        "ds = pd.read_csv('political_ideologies_train.csv')\n",
        "texts = ds[\"statement\"]\n",
        "\n",
        "print(texts)"
      ],
      "metadata": {
        "colab": {
          "base_uri": "https://localhost:8080/"
        },
        "id": "OpICOtdLn_oO",
        "outputId": "61a71eb0-c8e5-445b-df23-d58028700df5"
      },
      "execution_count": 33,
      "outputs": [
        {
          "output_type": "stream",
          "name": "stdout",
          "text": [
            "0       Climate change, and the escalating environment...\n",
            "1       I believe in the foundational importance of th...\n",
            "2       I firmly believe that the principle of separat...\n",
            "3       I firmly believe in the separation of church a...\n",
            "4       I firmly believe in the power of free markets ...\n",
            "                              ...                        \n",
            "2555    I believe in the power of free markets to driv...\n",
            "2556    I firmly believe in the traditional family str...\n",
            "2557    Every individual, regardless of their gender, ...\n",
            "2558    I firmly believe in the significance of religi...\n",
            "2559    I firmly believe in the principle of individua...\n",
            "Name: statement, Length: 2560, dtype: object\n"
          ]
        }
      ]
    },
    {
      "cell_type": "code",
      "source": [
        "encoder = SentenceTransformer('paraphrase-MiniLM-L12-v2')\n",
        "embeddings = encoder.encode(texts, show_progress_bar=True)"
      ],
      "metadata": {
        "colab": {
          "base_uri": "https://localhost:8080/",
          "height": 49,
          "referenced_widgets": [
            "6e2435b8e8cb4c93adeccd4f83b18f68",
            "5c7556693cbb4e878b996f468707e60f",
            "3ac5d54e46aa45539680e6c34fe9f91e",
            "3ff1005f40c94cf5890fd377ddf20bfd",
            "98e8b10e2b0148589cd75863cac1743f",
            "fda9d03e23a2490e9d16cfbde4815bc8",
            "cdd0912052794a9a83d89d2ebb7c57b1",
            "6abed975fb7242d6ad5c7bd14ff19db6",
            "5ef06f1cb31c4b998e58b84360ffef1d",
            "56b04f5414ad400e9f7b5d7cc11ab132",
            "b0f3947f03b544f6991c51bb207c6522"
          ]
        },
        "collapsed": true,
        "id": "dlXyyqbCx0oQ",
        "outputId": "302a0380-a412-4ace-d612-0d78a85de33b"
      },
      "execution_count": 34,
      "outputs": [
        {
          "output_type": "display_data",
          "data": {
            "text/plain": [
              "Batches:   0%|          | 0/80 [00:00<?, ?it/s]"
            ],
            "application/vnd.jupyter.widget-view+json": {
              "version_major": 2,
              "version_minor": 0,
              "model_id": "6e2435b8e8cb4c93adeccd4f83b18f68"
            }
          },
          "metadata": {}
        }
      ]
    },
    {
      "cell_type": "code",
      "source": [
        "print(embeddings)"
      ],
      "metadata": {
        "colab": {
          "base_uri": "https://localhost:8080/"
        },
        "id": "hF1EfSpiy-9X",
        "outputId": "778c7481-8bf9-45d9-a7ff-eec0bcb6349c"
      },
      "execution_count": 39,
      "outputs": [
        {
          "output_type": "stream",
          "name": "stdout",
          "text": [
            "[[-0.20092632  0.33961082  0.02055947 ... -0.14055775 -0.09066175\n",
            "  -0.05947793]\n",
            " [-0.05251725  0.2111203  -0.2350792  ... -0.19393641  0.06882618\n",
            "  -0.02158776]\n",
            " [-0.06461112  0.07165432 -0.08635489 ... -0.05988945  0.02278206\n",
            "   0.0677686 ]\n",
            " ...\n",
            " [ 0.2636646   0.07064892 -0.10288888 ...  0.00702172  0.0945406\n",
            "  -0.02747649]\n",
            " [ 0.2114343   0.13071813 -0.26949868 ... -0.00532549 -0.03988217\n",
            "  -0.08325328]\n",
            " [-0.3067356   0.26985478 -0.18770279 ... -0.16361783  0.10027055\n",
            "  -0.09515021]]\n"
          ]
        }
      ]
    },
    {
      "cell_type": "code",
      "source": [
        "model = SemanticSignalSeparation(4, encoder=encoder, random_state=42)\n",
        "doc_topic_matrix = model.fit_transform(texts, embeddings=embeddings)"
      ],
      "metadata": {
        "colab": {
          "base_uri": "https://localhost:8080/",
          "height": 145,
          "referenced_widgets": [
            "5fb5628de2464b0da61b12c5422c0695",
            "1e451a57f9fe43ada28c942a99884bb6"
          ]
        },
        "collapsed": true,
        "id": "psdr0cIOzDr_",
        "outputId": "047a9f33-6f44-42de-cf23-49406b0f4cd1"
      },
      "execution_count": 36,
      "outputs": [
        {
          "output_type": "display_data",
          "data": {
            "text/plain": [
              "Output()"
            ],
            "application/vnd.jupyter.widget-view+json": {
              "version_major": 2,
              "version_minor": 0,
              "model_id": "5fb5628de2464b0da61b12c5422c0695"
            }
          },
          "metadata": {}
        },
        {
          "output_type": "display_data",
          "data": {
            "text/plain": [
              "/usr/local/lib/python3.11/dist-packages/sklearn/decomposition/_fastica.py:127: ConvergenceWarning:\n",
              "\n",
              "FastICA did not converge. Consider increasing tolerance or the maximum number of iterations.\n",
              "\n"
            ],
            "text/html": [
              "<pre style=\"white-space:pre;overflow-x:auto;line-height:normal;font-family:Menlo,'DejaVu Sans Mono',consolas,'Courier New',monospace\">/usr/local/lib/python3.11/dist-packages/sklearn/decomposition/_fastica.py:127: ConvergenceWarning:\n",
              "\n",
              "FastICA did not converge. Consider increasing tolerance or the maximum number of iterations.\n",
              "\n",
              "</pre>\n"
            ]
          },
          "metadata": {}
        },
        {
          "output_type": "display_data",
          "data": {
            "text/plain": [
              "\u001b[2;36m[12:58:24]\u001b[0m\u001b[2;36m \u001b[0mDecomposition done.                                                                        \u001b]8;id=727742;file:///usr/local/lib/python3.11/dist-packages/turftopic/models/decomp.py\u001b\\\u001b[2mdecomp.py\u001b[0m\u001b]8;;\u001b\\\u001b[2m:\u001b[0m\u001b]8;id=628850;file:///usr/local/lib/python3.11/dist-packages/turftopic/models/decomp.py#144\u001b\\\u001b[2m144\u001b[0m\u001b]8;;\u001b\\\n"
            ],
            "text/html": [
              "<pre style=\"white-space:pre;overflow-x:auto;line-height:normal;font-family:Menlo,'DejaVu Sans Mono',consolas,'Courier New',monospace\"><span style=\"color: #7fbfbf; text-decoration-color: #7fbfbf\">[12:58:24] </span>Decomposition done.                                                                        <a href=\"file:///usr/local/lib/python3.11/dist-packages/turftopic/models/decomp.py\" target=\"_blank\"><span style=\"color: #7f7f7f; text-decoration-color: #7f7f7f\">decomp.py</span></a><span style=\"color: #7f7f7f; text-decoration-color: #7f7f7f\">:</span><a href=\"file:///usr/local/lib/python3.11/dist-packages/turftopic/models/decomp.py#144\" target=\"_blank\"><span style=\"color: #7f7f7f; text-decoration-color: #7f7f7f\">144</span></a>\n",
              "</pre>\n"
            ]
          },
          "metadata": {}
        },
        {
          "output_type": "display_data",
          "data": {
            "text/plain": [
              "\u001b[2;36m          \u001b[0m\u001b[2;36m \u001b[0mTerm extraction done.                                                                      \u001b]8;id=86792;file:///usr/local/lib/python3.11/dist-packages/turftopic/models/decomp.py\u001b\\\u001b[2mdecomp.py\u001b[0m\u001b]8;;\u001b\\\u001b[2m:\u001b[0m\u001b]8;id=894888;file:///usr/local/lib/python3.11/dist-packages/turftopic/models/decomp.py#147\u001b\\\u001b[2m147\u001b[0m\u001b]8;;\u001b\\\n"
            ],
            "text/html": [
              "<pre style=\"white-space:pre;overflow-x:auto;line-height:normal;font-family:Menlo,'DejaVu Sans Mono',consolas,'Courier New',monospace\"><span style=\"color: #7fbfbf; text-decoration-color: #7fbfbf\">           </span>Term extraction done.                                                                      <a href=\"file:///usr/local/lib/python3.11/dist-packages/turftopic/models/decomp.py\" target=\"_blank\"><span style=\"color: #7f7f7f; text-decoration-color: #7f7f7f\">decomp.py</span></a><span style=\"color: #7f7f7f; text-decoration-color: #7f7f7f\">:</span><a href=\"file:///usr/local/lib/python3.11/dist-packages/turftopic/models/decomp.py#147\" target=\"_blank\"><span style=\"color: #7f7f7f; text-decoration-color: #7f7f7f\">147</span></a>\n",
              "</pre>\n"
            ]
          },
          "metadata": {}
        },
        {
          "output_type": "display_data",
          "data": {
            "text/plain": [
              "\u001b[2;36m[12:58:38]\u001b[0m\u001b[2;36m \u001b[0mVocabulary encoded.                                                                        \u001b]8;id=923308;file:///usr/local/lib/python3.11/dist-packages/turftopic/models/decomp.py\u001b\\\u001b[2mdecomp.py\u001b[0m\u001b]8;;\u001b\\\u001b[2m:\u001b[0m\u001b]8;id=136453;file:///usr/local/lib/python3.11/dist-packages/turftopic/models/decomp.py#157\u001b\\\u001b[2m157\u001b[0m\u001b]8;;\u001b\\\n"
            ],
            "text/html": [
              "<pre style=\"white-space:pre;overflow-x:auto;line-height:normal;font-family:Menlo,'DejaVu Sans Mono',consolas,'Courier New',monospace\"><span style=\"color: #7fbfbf; text-decoration-color: #7fbfbf\">[12:58:38] </span>Vocabulary encoded.                                                                        <a href=\"file:///usr/local/lib/python3.11/dist-packages/turftopic/models/decomp.py\" target=\"_blank\"><span style=\"color: #7f7f7f; text-decoration-color: #7f7f7f\">decomp.py</span></a><span style=\"color: #7f7f7f; text-decoration-color: #7f7f7f\">:</span><a href=\"file:///usr/local/lib/python3.11/dist-packages/turftopic/models/decomp.py#157\" target=\"_blank\"><span style=\"color: #7f7f7f; text-decoration-color: #7f7f7f\">157</span></a>\n",
              "</pre>\n"
            ]
          },
          "metadata": {}
        },
        {
          "output_type": "display_data",
          "data": {
            "text/plain": [
              "\u001b[2;36m          \u001b[0m\u001b[2;36m \u001b[0mModel fitting done.                                                                        \u001b]8;id=369043;file:///usr/local/lib/python3.11/dist-packages/turftopic/models/decomp.py\u001b\\\u001b[2mdecomp.py\u001b[0m\u001b]8;;\u001b\\\u001b[2m:\u001b[0m\u001b]8;id=494239;file:///usr/local/lib/python3.11/dist-packages/turftopic/models/decomp.py#170\u001b\\\u001b[2m170\u001b[0m\u001b]8;;\u001b\\\n"
            ],
            "text/html": [
              "<pre style=\"white-space:pre;overflow-x:auto;line-height:normal;font-family:Menlo,'DejaVu Sans Mono',consolas,'Courier New',monospace\"><span style=\"color: #7fbfbf; text-decoration-color: #7fbfbf\">           </span>Model fitting done.                                                                        <a href=\"file:///usr/local/lib/python3.11/dist-packages/turftopic/models/decomp.py\" target=\"_blank\"><span style=\"color: #7f7f7f; text-decoration-color: #7f7f7f\">decomp.py</span></a><span style=\"color: #7f7f7f; text-decoration-color: #7f7f7f\">:</span><a href=\"file:///usr/local/lib/python3.11/dist-packages/turftopic/models/decomp.py#170\" target=\"_blank\"><span style=\"color: #7f7f7f; text-decoration-color: #7f7f7f\">170</span></a>\n",
              "</pre>\n"
            ]
          },
          "metadata": {}
        },
        {
          "output_type": "display_data",
          "data": {
            "text/plain": [],
            "text/html": [
              "<pre style=\"white-space:pre;overflow-x:auto;line-height:normal;font-family:Menlo,'DejaVu Sans Mono',consolas,'Courier New',monospace\"></pre>\n"
            ]
          },
          "metadata": {}
        }
      ]
    },
    {
      "cell_type": "code",
      "source": [
        "model.print_topics(top_k=10)"
      ],
      "metadata": {
        "colab": {
          "base_uri": "https://localhost:8080/",
          "height": 305
        },
        "id": "ldtjDfxt0ONY",
        "outputId": "2102fc0d-51db-49c7-aec7-8019128a967b"
      },
      "execution_count": 37,
      "outputs": [
        {
          "output_type": "display_data",
          "data": {
            "text/plain": [
              "┏━━━━━━━━━━┳━━━━━━━━━━━━━━━━━━━━━━━━━━━━━━━━━━━━━━━━━━━━━━━━━━┳━━━━━━━━━━━━━━━━━━━━━━━━━━━━━━━━━━━━━━━━━━━━━━━━━━━┓\n",
              "┃\u001b[1m \u001b[0m\u001b[1mTopic ID\u001b[0m\u001b[1m \u001b[0m┃\u001b[1m \u001b[0m\u001b[1mHighest Ranking                                 \u001b[0m\u001b[1m \u001b[0m┃\u001b[1m \u001b[0m\u001b[1mLowest Ranking                                   \u001b[0m\u001b[1m \u001b[0m┃\n",
              "┡━━━━━━━━━━╇━━━━━━━━━━━━━━━━━━━━━━━━━━━━━━━━━━━━━━━━━━━━━━━━━━╇━━━━━━━━━━━━━━━━━━━━━━━━━━━━━━━━━━━━━━━━━━━━━━━━━━━┩\n",
              "│\u001b[34m \u001b[0m\u001b[34m       0\u001b[0m\u001b[34m \u001b[0m│\u001b[35m \u001b[0m\u001b[35mwarming, carbon, environment, solar, change,    \u001b[0m\u001b[35m \u001b[0m│\u001b[31m \u001b[0m\u001b[31mwealth, taxation, prosperity, wealthiest, tax,   \u001b[0m\u001b[31m \u001b[0m│\n",
              "│\u001b[34m          \u001b[0m│\u001b[35m \u001b[0m\u001b[35mplanet, greenhouse, environmental, shift, fossil\u001b[0m\u001b[35m \u001b[0m│\u001b[31m \u001b[0m\u001b[31mprofit, taxes, entrepreneurship, fiscal,         \u001b[0m\u001b[31m \u001b[0m│\n",
              "│\u001b[34m          \u001b[0m│\u001b[35m                                                  \u001b[0m│\u001b[31m \u001b[0m\u001b[31mgovernment                                       \u001b[0m\u001b[31m \u001b[0m│\n",
              "├──────────┼──────────────────────────────────────────────────┼───────────────────────────────────────────────────┤\n",
              "│\u001b[34m \u001b[0m\u001b[34m       1\u001b[0m\u001b[34m \u001b[0m│\u001b[35m \u001b[0m\u001b[35mreligious, religion, church, religions, faith,  \u001b[0m\u001b[35m \u001b[0m│\u001b[31m \u001b[0m\u001b[31mspending, fiscal, budget, economic, economies,   \u001b[0m\u001b[31m \u001b[0m│\n",
              "│\u001b[34m          \u001b[0m│\u001b[35m \u001b[0m\u001b[35mfaiths, respectful, respect, distinct, lgbtq    \u001b[0m\u001b[35m \u001b[0m│\u001b[31m \u001b[0m\u001b[31meconomy, growth, investments, economically,      \u001b[0m\u001b[31m \u001b[0m│\n",
              "│\u001b[34m          \u001b[0m│\u001b[35m                                                  \u001b[0m│\u001b[31m \u001b[0m\u001b[31mproductive                                       \u001b[0m\u001b[31m \u001b[0m│\n",
              "├──────────┼──────────────────────────────────────────────────┼───────────────────────────────────────────────────┤\n",
              "│\u001b[34m \u001b[0m\u001b[34m       2\u001b[0m\u001b[34m \u001b[0m│\u001b[35m \u001b[0m\u001b[35mmarriage, structure, traditions, relationships, \u001b[0m\u001b[35m \u001b[0m│\u001b[31m \u001b[0m\u001b[31mhealthcare, medical, patient, health, care,      \u001b[0m\u001b[31m \u001b[0m│\n",
              "│\u001b[34m          \u001b[0m│\u001b[35m \u001b[0m\u001b[35mstructures, tradition, tensions, conflicts,     \u001b[0m\u001b[35m \u001b[0m│\u001b[31m \u001b[0m\u001b[31mhealthy, treated, healthier, treatment,          \u001b[0m\u001b[31m \u001b[0m│\n",
              "│\u001b[34m          \u001b[0m│\u001b[35m \u001b[0m\u001b[35mconflict, couples                               \u001b[0m\u001b[35m \u001b[0m│\u001b[31m \u001b[0m\u001b[31mtreatments                                       \u001b[0m\u001b[31m \u001b[0m│\n",
              "├──────────┼──────────────────────────────────────────────────┼───────────────────────────────────────────────────┤\n",
              "│\u001b[34m \u001b[0m\u001b[34m       3\u001b[0m\u001b[34m \u001b[0m│\u001b[35m \u001b[0m\u001b[35mfreedoms, liberties, iran, freedom, faith,      \u001b[0m\u001b[35m \u001b[0m│\u001b[31m \u001b[0m\u001b[31mhouseholds, adoption, racial, household, racism, \u001b[0m\u001b[31m \u001b[0m│\n",
              "│\u001b[34m          \u001b[0m│\u001b[35m \u001b[0m\u001b[35mreligion, protection, secure, military, security\u001b[0m\u001b[35m \u001b[0m│\u001b[31m \u001b[0m\u001b[31mfamilies, ethnicity, mothers, childcare, races   \u001b[0m\u001b[31m \u001b[0m│\n",
              "└──────────┴──────────────────────────────────────────────────┴───────────────────────────────────────────────────┘\n"
            ],
            "text/html": [
              "<pre style=\"white-space:pre;overflow-x:auto;line-height:normal;font-family:Menlo,'DejaVu Sans Mono',consolas,'Courier New',monospace\">┏━━━━━━━━━━┳━━━━━━━━━━━━━━━━━━━━━━━━━━━━━━━━━━━━━━━━━━━━━━━━━━┳━━━━━━━━━━━━━━━━━━━━━━━━━━━━━━━━━━━━━━━━━━━━━━━━━━━┓\n",
              "┃<span style=\"font-weight: bold\"> Topic ID </span>┃<span style=\"font-weight: bold\"> Highest Ranking                                  </span>┃<span style=\"font-weight: bold\"> Lowest Ranking                                    </span>┃\n",
              "┡━━━━━━━━━━╇━━━━━━━━━━━━━━━━━━━━━━━━━━━━━━━━━━━━━━━━━━━━━━━━━━╇━━━━━━━━━━━━━━━━━━━━━━━━━━━━━━━━━━━━━━━━━━━━━━━━━━━┩\n",
              "│<span style=\"color: #000080; text-decoration-color: #000080\">        0 </span>│<span style=\"color: #800080; text-decoration-color: #800080\"> warming, carbon, environment, solar, change,     </span>│<span style=\"color: #800000; text-decoration-color: #800000\"> wealth, taxation, prosperity, wealthiest, tax,    </span>│\n",
              "│<span style=\"color: #000080; text-decoration-color: #000080\">          </span>│<span style=\"color: #800080; text-decoration-color: #800080\"> planet, greenhouse, environmental, shift, fossil </span>│<span style=\"color: #800000; text-decoration-color: #800000\"> profit, taxes, entrepreneurship, fiscal,          </span>│\n",
              "│<span style=\"color: #000080; text-decoration-color: #000080\">          </span>│<span style=\"color: #800080; text-decoration-color: #800080\">                                                  </span>│<span style=\"color: #800000; text-decoration-color: #800000\"> government                                        </span>│\n",
              "├──────────┼──────────────────────────────────────────────────┼───────────────────────────────────────────────────┤\n",
              "│<span style=\"color: #000080; text-decoration-color: #000080\">        1 </span>│<span style=\"color: #800080; text-decoration-color: #800080\"> religious, religion, church, religions, faith,   </span>│<span style=\"color: #800000; text-decoration-color: #800000\"> spending, fiscal, budget, economic, economies,    </span>│\n",
              "│<span style=\"color: #000080; text-decoration-color: #000080\">          </span>│<span style=\"color: #800080; text-decoration-color: #800080\"> faiths, respectful, respect, distinct, lgbtq     </span>│<span style=\"color: #800000; text-decoration-color: #800000\"> economy, growth, investments, economically,       </span>│\n",
              "│<span style=\"color: #000080; text-decoration-color: #000080\">          </span>│<span style=\"color: #800080; text-decoration-color: #800080\">                                                  </span>│<span style=\"color: #800000; text-decoration-color: #800000\"> productive                                        </span>│\n",
              "├──────────┼──────────────────────────────────────────────────┼───────────────────────────────────────────────────┤\n",
              "│<span style=\"color: #000080; text-decoration-color: #000080\">        2 </span>│<span style=\"color: #800080; text-decoration-color: #800080\"> marriage, structure, traditions, relationships,  </span>│<span style=\"color: #800000; text-decoration-color: #800000\"> healthcare, medical, patient, health, care,       </span>│\n",
              "│<span style=\"color: #000080; text-decoration-color: #000080\">          </span>│<span style=\"color: #800080; text-decoration-color: #800080\"> structures, tradition, tensions, conflicts,      </span>│<span style=\"color: #800000; text-decoration-color: #800000\"> healthy, treated, healthier, treatment,           </span>│\n",
              "│<span style=\"color: #000080; text-decoration-color: #000080\">          </span>│<span style=\"color: #800080; text-decoration-color: #800080\"> conflict, couples                                </span>│<span style=\"color: #800000; text-decoration-color: #800000\"> treatments                                        </span>│\n",
              "├──────────┼──────────────────────────────────────────────────┼───────────────────────────────────────────────────┤\n",
              "│<span style=\"color: #000080; text-decoration-color: #000080\">        3 </span>│<span style=\"color: #800080; text-decoration-color: #800080\"> freedoms, liberties, iran, freedom, faith,       </span>│<span style=\"color: #800000; text-decoration-color: #800000\"> households, adoption, racial, household, racism,  </span>│\n",
              "│<span style=\"color: #000080; text-decoration-color: #000080\">          </span>│<span style=\"color: #800080; text-decoration-color: #800080\"> religion, protection, secure, military, security </span>│<span style=\"color: #800000; text-decoration-color: #800000\"> families, ethnicity, mothers, childcare, races    </span>│\n",
              "└──────────┴──────────────────────────────────────────────────┴───────────────────────────────────────────────────┘\n",
              "</pre>\n"
            ]
          },
          "metadata": {}
        }
      ]
    },
    {
      "cell_type": "code",
      "source": [
        "model.plot_concept_compass(0, 1)"
      ],
      "metadata": {
        "colab": {
          "base_uri": "https://localhost:8080/",
          "height": 542
        },
        "id": "DlOeonRP2qsw",
        "outputId": "52f333f2-5409-4b92-80b2-84e00c815576"
      },
      "execution_count": 38,
      "outputs": [
        {
          "output_type": "display_data",
          "data": {
            "text/html": [
              "<html>\n",
              "<head><meta charset=\"utf-8\" /></head>\n",
              "<body>\n",
              "    <div>            <script src=\"https://cdnjs.cloudflare.com/ajax/libs/mathjax/2.7.5/MathJax.js?config=TeX-AMS-MML_SVG\"></script><script type=\"text/javascript\">if (window.MathJax && window.MathJax.Hub && window.MathJax.Hub.Config) {window.MathJax.Hub.Config({SVG: {font: \"STIX-Web\"}});}</script>                <script type=\"text/javascript\">window.PlotlyConfig = {MathJaxConfig: 'local'};</script>\n",
              "        <script charset=\"utf-8\" src=\"https://cdn.plot.ly/plotly-2.35.2.min.js\"></script>                <div id=\"59a8b901-25fd-4abd-9b91-d2886b968391\" class=\"plotly-graph-div\" style=\"height:525px; width:100%;\"></div>            <script type=\"text/javascript\">                                    window.PLOTLYENV=window.PLOTLYENV || {};                                    if (document.getElementById(\"59a8b901-25fd-4abd-9b91-d2886b968391\")) {                    Plotly.newPlot(                        \"59a8b901-25fd-4abd-9b91-d2886b968391\",                        [{\"hovertemplate\":\"x=%{x}\\u003cbr\\u003ey=%{y}\\u003cbr\\u003etext=%{text}\\u003cextra\\u003e\\u003c\\u002fextra\\u003e\",\"legendgroup\":\"\",\"marker\":{\"color\":\"black\",\"symbol\":\"circle\"},\"mode\":\"text\",\"name\":\"\",\"orientation\":\"v\",\"showlegend\":false,\"text\":[\"fiscal\",\"fiscal\",\"economy\",\"growth\",\"spending\",\"spending\",\"spending\",\"spending\",\"budget\",\"budget\",\"innovate\",\"innovate\",\"emissions\",\"emissions\",\"emissions\",\"emissions\",\"carbon\",\"carbon\",\"carbon\",\"carbon\",\"taxation\",\"economy\",\"economic\",\"growth\",\"investments\",\"spending\",\"spending\",\"budget\",\"budget\",\"budget\",\"innovate\",\"fuel\",\"emissions\",\"emissions\",\"emissions\",\"emissions\",\"carbon\",\"carbon\",\"carbon\",\"carbon\",\"taxation\",\"economies\",\"economy\",\"affordability\",\"economically\",\"productive\",\"investments\",\"budget\",\"budget\",\"innovations\",\"innovate\",\"fuel\",\"emissions\",\"emissions\",\"emissions\",\"emissions\",\"carbon\",\"carbon\",\"carbon\",\"carbon\",\"prosperity\",\"profit\",\"efficiency\",\"incentives\",\"economically\",\"afford\",\"costs\",\"innovation\",\"innovations\",\"innovative\",\"sustainability\",\"fuel\",\"sustainable\",\"sustainable\",\"emissions\",\"emissions\",\"carbon\",\"carbon\",\"carbon\",\"carbon\",\"taxes\",\"taxes\",\"wage\",\"poverty\",\"sectors\",\"labor\",\"costs\",\"funding\",\"funded\",\"innovative\",\"energy\",\"fuel\",\"sustainable\",\"environmentally\",\"renewable\",\"renewable\",\"carbon\",\"carbon\",\"carbon\",\"carbon\",\"tax\",\"tax\",\"wages\",\"socioeconomic\",\"businesses\",\"enriches\",\"opportunities\",\"process\",\"trade\",\"technology\",\"increase\",\"future\",\"global\",\"environmentally\",\"renewable\",\"environmental\",\"environment\",\"carbon\",\"carbon\",\"carbon\",\"wealth\",\"wealthiest\",\"taxed\",\"govern\",\"businesses\",\"enriches\",\"opportunity\",\"national\",\"countries\",\"stimulate\",\"workers\",\"uplift\",\"contributions\",\"gas\",\"gas\",\"environment\",\"environment\",\"environment\",\"warming\",\"warming\",\"wealth\",\"wealthiest\",\"wealthiest\",\"affluent\",\"richness\",\"equity\",\"lower\",\"regulate\",\"forces\",\"gap\",\"international\",\"progress\",\"transitioning\",\"affected\",\"changes\",\"greenhouse\",\"environment\",\"environment\",\"warming\",\"warming\",\"wealth\",\"wealth\",\"rich\",\"rich\",\"rich\",\"disparities\",\"empower\",\"imposing\",\"larger\",\"strive\",\"considering\",\"compromised\",\"ongoing\",\"conservation\",\"planet\",\"planet\",\"solar\",\"warming\",\"warming\",\"warming\",\"wealth\",\"wealthy\",\"rich\",\"rich\",\"criminal\",\"valued\",\"fairness\",\"bond\",\"considered\",\"select\",\"daily\",\"war\",\"realities\",\"live\",\"current\",\"planet\",\"planet\",\"warming\",\"warming\",\"warming\",\"independence\",\"independence\",\"independence\",\"independence\",\"criminal\",\"rule\",\"property\",\"public\",\"dictate\",\"assert\",\"similarly\",\"informed\",\"sea\",\"sea\",\"shift\",\"fossil\",\"fossil\",\"fossil\",\"fossil\",\"warming\",\"sovereignty\",\"sovereignty\",\"sovereignty\",\"independence\",\"privileges\",\"ideals\",\"school\",\"society\",\"clear\",\"accessibility\",\"similarly\",\"complementary\",\"skin\",\"skin\",\"biodiversity\",\"fossil\",\"fossil\",\"fossil\",\"fossil\",\"fossil\",\"liberty\",\"sovereignty\",\"sovereignty\",\"liberty\",\"constitution\",\"citizenship\",\"privileged\",\"single\",\"cornerstone\",\"adoption\",\"members\",\"denied\",\"orientation\",\"orientation\",\"shared\",\"shared\",\"shared\",\"fossil\",\"fossil\",\"fossil\",\"liberty\",\"liberty\",\"liberty\",\"private\",\"freedoms\",\"privilege\",\"lawful\",\"marriage\",\"uphold\",\"birth\",\"peaceful\",\"diversity\",\"character\",\"character\",\"character\",\"shared\",\"shared\",\"shared\",\"fossil\",\"fossil\",\"liberty\",\"freedoms\",\"freedoms\",\"freedoms\",\"freedoms\",\"autonomy\",\"liberties\",\"justice\",\"conception\",\"believe\",\"peace\",\"persecution\",\"sex\",\"palestinian\",\"palestinian\",\"character\",\"shared\",\"lgbtq\",\"shared\",\"lgbtq\",\"liberty\",\"freedoms\",\"freedoms\",\"freedoms\",\"freedoms\",\"freedom\",\"freedom\",\"rights\",\"rights\",\"respect\",\"believer\",\"empathy\",\"palestinians\",\"palestinian\",\"lgbtq\",\"lgbtq\",\"lgbtq\",\"lgbtq\",\"lgbtq\",\"lgbtq\",\"freedoms\",\"freedoms\",\"freedoms\",\"freedoms\",\"freedom\",\"freedom\",\"rights\",\"rights\",\"upheld\",\"beliefs\",\"beliefs\",\"palestinians\",\"respectful\",\"lgbtq\",\"lgbtq\",\"lgbtq\",\"lgbtq\",\"lgbtq\",\"lgbtq\",\"lgbtq\",\"freedoms\",\"freedoms\",\"freedom\",\"freedom\",\"freedom\",\"freedom\",\"faiths\",\"faiths\",\"faiths\",\"beliefs\",\"respectful\",\"beliefs\",\"respectful\",\"lgbtq\",\"lgbtq\",\"lgbtq\",\"lgbtq\",\"lgbtq\",\"lgbtq\",\"lgbtq\",\"freedoms\",\"freedom\",\"freedom\",\"freedom\",\"freedom\",\"faiths\",\"faiths\",\"faiths\",\"faiths\",\"faith\",\"religion\",\"respectful\",\"respectful\",\"lgbtq\",\"lgbtq\",\"lgbtq\",\"lgbtq\",\"lgbtq\",\"lgbtq\",\"lgbtq\",\"freedom\",\"freedom\",\"freedom\",\"freedom\",\"faiths\",\"church\",\"church\",\"church\",\"church\",\"religious\",\"religion\",\"religions\",\"religions\",\"lgbtq\",\"lgbtq\",\"lgbtq\",\"lgbtq\",\"lgbtq\",\"lgbtq\",\"lgbtq\"],\"x\":[-2.4287944,-2.4287944,-2.097143,-1.3996384,-0.9772105,-0.9772105,-0.9772105,-0.9772105,-0.40975302,-0.40975302,0.22844383,0.22844383,1.6620836,1.6620836,1.6620836,1.6620836,2.5718389,2.5718389,2.5718389,2.5718389,-2.5530252,-2.097143,-1.8850263,-1.3996384,-1.0740539,-0.9772105,-0.9772105,-0.40975302,-0.40975302,-0.40975302,0.22844383,0.7839478,1.6620836,1.6620836,1.6620836,1.6620836,2.5718389,2.5718389,2.5718389,2.5718389,-2.5530252,-2.262732,-2.097143,-1.5227294,-1.3565636,-1.1635884,-1.0740539,-0.40975302,-0.40975302,0.11508116,0.22844383,0.7839478,1.6620836,1.6620836,1.6620836,1.6620836,2.5718389,2.5718389,2.5718389,2.5718389,-2.444892,-2.3481188,-1.939615,-1.7015042,-1.3565636,-1.2141578,-0.60562354,-0.37137613,0.11508116,0.03293763,0.54913974,0.7839478,1.2215419,1.2215419,1.6620836,1.6620836,2.5718389,2.5718389,2.5718389,2.5718389,-2.2285676,-2.2285676,-1.8706174,-1.6947603,-1.1341398,-0.9234528,-0.60562354,-0.24660406,-0.30039093,0.03293763,0.51656204,0.7839478,1.2215419,1.3266824,1.668647,1.668647,2.5718389,2.5718389,2.5718389,2.5718389,-2.237472,-2.237472,-1.8188068,-1.577835,-1.491334,-0.96476257,-0.7703433,-0.4250744,-0.06187423,0.14440899,0.46605772,0.81518006,0.96288127,1.3266824,1.668647,1.9959438,2.3953602,2.5718389,2.5718389,2.5718389,-2.407624,-2.2019076,-1.8116403,-1.6638446,-1.491334,-0.96476257,-0.65834033,-0.40034726,-0.12803268,0.15200615,0.44527322,0.73112833,1.08718,1.5596395,1.5596395,2.3953602,2.3953602,2.3953602,3.280343,3.280343,-2.407624,-2.2019076,-2.2019076,-1.6742982,-1.4497854,-1.1363473,-0.6193669,-0.48189625,-0.13903466,0.07948796,0.6092369,0.92114866,1.1562282,1.4499964,1.7561225,1.9289398,2.3953602,2.3953602,3.280343,3.280343,-2.407624,-2.407624,-1.4827384,-1.4827384,-1.4827384,-0.97461385,-0.68621016,-0.38429046,-0.090504736,0.34988892,0.3704582,0.96194226,1.1438835,1.3074296,1.8806375,1.8806375,1.9774489,3.280343,3.280343,3.280343,-2.407624,-1.8777899,-1.4827384,-1.4827384,-1.370005,-0.8892716,-0.65050113,-0.51267445,0.0052017868,0.22484855,0.39286184,0.73048985,1.0313561,1.2980207,1.550295,1.8806375,1.8806375,3.280343,3.280343,3.280343,-1.5476098,-1.5476098,-1.5476098,-1.5476098,-1.370005,-0.91707826,-0.73643863,-0.53096575,-0.14946657,0.29241514,0.38081872,0.9636575,1.29228,1.29228,1.690767,1.7749732,1.7749732,1.7749732,1.7749732,3.280343,-1.5597844,-1.5597844,-1.5597844,-1.5476098,-1.2016696,-1.0664763,-0.59534556,-0.42219496,-0.16326459,0.18396029,0.38081872,0.71455413,1.2469338,1.2469338,1.7406378,1.7749732,1.7749732,1.7749732,1.7749732,1.7749732,-1.5074875,-1.5597844,-1.5597844,-1.5074875,-1.2331579,-0.9641597,-0.7411793,-0.3678583,-0.10180491,0.08330316,0.6635213,0.6652494,1.2896141,1.2896141,1.5953059,1.5953059,1.5953059,1.7749732,1.7749732,1.7749732,-1.5074875,-1.5074875,-1.5074875,-1.2250752,-1.2074838,-0.92995375,-0.65822744,-0.2359044,-0.22274463,0.0937228,0.46913987,1.0473608,1.3320012,1.3320012,1.3320012,1.5953059,1.5953059,1.5953059,1.7749732,1.7749732,-1.5074875,-1.2074838,-1.2074838,-1.2074838,-1.2074838,-1.0885227,-0.5707294,-0.34854928,-0.13291433,0.20227376,0.65617096,0.8197186,1.2173083,1.2026234,1.2026234,1.3320012,1.5953059,1.5094458,1.5953059,1.5094458,-1.5074875,-1.2074838,-1.2074838,-1.2074838,-1.2074838,-1.0842475,-1.0842475,-0.32103705,-0.32103705,0.37926197,0.61476815,0.9773747,1.0613058,1.2026234,1.5094458,1.5094458,1.5094458,1.5094458,1.5094458,1.5094458,-1.2074838,-1.2074838,-1.2074838,-1.2074838,-1.0842475,-1.0842475,-0.32103705,-0.32103705,-0.022015125,0.3836956,0.3836956,1.0613058,0.85204554,1.5094458,1.5094458,1.5094458,1.5094458,1.5094458,1.5094458,1.5094458,-1.2074838,-1.2074838,-1.0842475,-1.0842475,-1.0842475,-1.0842475,-0.16921808,-0.16921808,-0.16921808,0.3836956,0.85204554,0.3836956,0.85204554,1.5094458,1.5094458,1.5094458,1.5094458,1.5094458,1.5094458,1.5094458,-1.2074838,-1.0842475,-1.0842475,-1.0842475,-1.0842475,-0.16921808,-0.16921808,-0.16921808,-0.16921808,0.03360758,0.38836664,0.85204554,0.85204554,1.5094458,1.5094458,1.5094458,1.5094458,1.5094458,1.5094458,1.5094458,-1.0842475,-1.0842475,-1.0842475,-1.0842475,-0.16921808,0.04938406,0.04938406,0.04938406,0.04938406,0.37260708,0.38836664,0.5372911,0.5372911,1.5094458,1.5094458,1.5094458,1.5094458,1.5094458,1.5094458,1.5094458],\"xaxis\":\"x\",\"y\":[-3.0652914,-3.0652914,-2.6735816,-2.5576186,-2.814952,-2.814952,-2.814952,-2.814952,-2.5081449,-2.5081449,-2.1515088,-2.1515088,-2.0043852,-2.0043852,-2.0043852,-2.0043852,-2.0150595,-2.0150595,-2.0150595,-2.0150595,-2.268022,-2.6735816,-2.665781,-2.5576186,-2.4863877,-2.814952,-2.814952,-2.5081449,-2.5081449,-2.5081449,-2.1515088,-1.9334772,-2.0043852,-2.0043852,-2.0043852,-2.0043852,-2.0150595,-2.0150595,-2.0150595,-2.0150595,-2.268022,-2.7617373,-2.6735816,-2.140764,-2.3876538,-2.3025537,-2.4863877,-2.5081449,-2.5081449,-2.1510735,-2.1515088,-1.9334772,-2.0043852,-2.0043852,-2.0043852,-2.0043852,-2.0150595,-2.0150595,-2.0150595,-2.0150595,-2.2135272,-2.237067,-2.1107652,-2.092609,-2.3876538,-2.02181,-1.781711,-2.113922,-2.1510735,-1.8859694,-1.8727252,-1.9334772,-1.8485845,-1.8485845,-2.0043852,-2.0043852,-2.0150595,-2.0150595,-2.0150595,-2.0150595,-1.8251779,-1.8251779,-1.8643615,-2.0179548,-1.7759175,-1.8409891,-1.781711,-1.8827322,-1.6248901,-1.8859694,-1.867252,-1.9334772,-1.8485845,-1.575248,-1.9811816,-1.9811816,-2.0150595,-2.0150595,-2.0150595,-2.0150595,-1.6115124,-1.6115124,-1.6846648,-1.7095703,-1.36153,-1.246315,-1.5059108,-1.4567261,-1.5913409,-1.1903741,-1.6638982,-1.466906,-1.3424734,-1.575248,-1.9811816,-1.4066913,-1.1721139,-2.0150595,-2.0150595,-2.0150595,-1.1717409,-1.1991377,-1.1387932,-0.9860136,-1.36153,-1.246315,-1.2389323,-1.156419,-1.1983459,-0.986087,-1.2428268,-1.2777834,-1.137906,-1.1964581,-1.1964581,-1.1721139,-1.1721139,-1.1721139,-0.930246,-0.930246,-1.1717409,-1.1991377,-1.1991377,-1.0124557,-0.8260793,-1.018207,-0.8369621,-0.8487084,-0.9145663,-0.78803027,-0.8575661,-1.3386806,-0.93009484,-0.9013045,-0.8609797,-1.1349826,-1.1721139,-1.1721139,-0.930246,-0.930246,-1.1717409,-1.1717409,-0.61727023,-0.61727023,-0.61727023,-0.7825378,-0.64787763,-0.66462547,-0.7382771,-0.78814447,-0.6046674,-0.58089507,-0.79084575,-0.7369014,-0.5620755,-0.5620755,-0.7492559,-0.930246,-0.930246,-0.930246,-1.1717409,-1.0068133,-0.61727023,-0.61727023,-0.171026,-0.41605368,-0.12330138,-0.3827414,-0.23490259,-0.19184077,-0.44284153,-0.33910972,-0.3487459,-0.39445478,-0.32609734,-0.5620755,-0.5620755,-0.930246,-0.930246,-0.930246,0.2675525,0.2675525,0.2675525,0.2675525,-0.171026,0.0031885505,-0.30908686,0.040209644,0.08671358,-0.051090058,0.1159336,-0.008172989,-0.06741886,-0.06741886,-0.11272723,0.07784897,0.07784897,0.07784897,0.07784897,-0.930246,0.3842578,0.3842578,0.3842578,0.2675525,0.5116419,0.43373352,0.35439062,0.18035935,0.4275276,0.37151587,0.1159336,0.41248086,0.28434917,0.28434917,0.072130084,0.07784897,0.07784897,0.07784897,0.07784897,0.07784897,0.5811042,0.3842578,0.3842578,0.5811042,0.64394224,0.59149945,0.4014445,0.38997793,0.72501886,0.6526834,0.6814817,0.57597005,0.5935478,0.5935478,0.41614652,0.41614652,0.41614652,0.07784897,0.07784897,0.07784897,0.5811042,0.5811042,0.5811042,0.68112135,1.2461898,0.8734449,0.9625041,0.8536351,0.99701107,0.7485662,0.984195,0.908006,0.794518,0.794518,0.794518,0.41614652,0.41614652,0.41614652,0.07784897,0.07784897,0.5811042,1.2461898,1.2461898,1.2461898,1.2461898,1.1651199,1.0900176,1.1941413,1.1732293,1.130023,1.0504535,1.1209002,1.1397284,1.3294389,1.3294389,0.794518,0.41614652,1.7847097,0.41614652,1.7847097,0.5811042,1.2461898,1.2461898,1.2461898,1.2461898,1.3695391,1.3695391,1.5241432,1.5241432,1.6953166,1.6668041,1.339848,1.3542547,1.3294389,1.7847097,1.7847097,1.7847097,1.7847097,1.7847097,1.7847097,1.2461898,1.2461898,1.2461898,1.2461898,1.3695391,1.3695391,1.5241432,1.5241432,1.4232113,1.8343942,1.8343942,1.3542547,1.8822747,1.7847097,1.7847097,1.7847097,1.7847097,1.7847097,1.7847097,1.7847097,1.2461898,1.2461898,1.3695391,1.3695391,1.3695391,1.3695391,2.1041062,2.1041062,2.1041062,1.8343942,1.8822747,1.8343942,1.8822747,1.7847097,1.7847097,1.7847097,1.7847097,1.7847097,1.7847097,1.7847097,1.2461898,1.3695391,1.3695391,1.3695391,1.3695391,2.1041062,2.1041062,2.1041062,2.1041062,2.2779596,2.6972826,1.8822747,1.8822747,1.7847097,1.7847097,1.7847097,1.7847097,1.7847097,1.7847097,1.7847097,1.3695391,1.3695391,1.3695391,1.3695391,2.1041062,2.5574255,2.5574255,2.5574255,2.5574255,2.7372985,2.6972826,2.5763874,2.5763874,1.7847097,1.7847097,1.7847097,1.7847097,1.7847097,1.7847097,1.7847097],\"yaxis\":\"y\",\"type\":\"scatter\",\"textfont\":{\"color\":\"black\"}}],                        {\"template\":{\"data\":{\"barpolar\":[{\"marker\":{\"line\":{\"color\":\"white\",\"width\":0.5},\"pattern\":{\"fillmode\":\"overlay\",\"size\":10,\"solidity\":0.2}},\"type\":\"barpolar\"}],\"bar\":[{\"error_x\":{\"color\":\"#2a3f5f\"},\"error_y\":{\"color\":\"#2a3f5f\"},\"marker\":{\"line\":{\"color\":\"white\",\"width\":0.5},\"pattern\":{\"fillmode\":\"overlay\",\"size\":10,\"solidity\":0.2}},\"type\":\"bar\"}],\"carpet\":[{\"aaxis\":{\"endlinecolor\":\"#2a3f5f\",\"gridcolor\":\"#C8D4E3\",\"linecolor\":\"#C8D4E3\",\"minorgridcolor\":\"#C8D4E3\",\"startlinecolor\":\"#2a3f5f\"},\"baxis\":{\"endlinecolor\":\"#2a3f5f\",\"gridcolor\":\"#C8D4E3\",\"linecolor\":\"#C8D4E3\",\"minorgridcolor\":\"#C8D4E3\",\"startlinecolor\":\"#2a3f5f\"},\"type\":\"carpet\"}],\"choropleth\":[{\"colorbar\":{\"outlinewidth\":0,\"ticks\":\"\"},\"type\":\"choropleth\"}],\"contourcarpet\":[{\"colorbar\":{\"outlinewidth\":0,\"ticks\":\"\"},\"type\":\"contourcarpet\"}],\"contour\":[{\"colorbar\":{\"outlinewidth\":0,\"ticks\":\"\"},\"colorscale\":[[0.0,\"#0d0887\"],[0.1111111111111111,\"#46039f\"],[0.2222222222222222,\"#7201a8\"],[0.3333333333333333,\"#9c179e\"],[0.4444444444444444,\"#bd3786\"],[0.5555555555555556,\"#d8576b\"],[0.6666666666666666,\"#ed7953\"],[0.7777777777777778,\"#fb9f3a\"],[0.8888888888888888,\"#fdca26\"],[1.0,\"#f0f921\"]],\"type\":\"contour\"}],\"heatmapgl\":[{\"colorbar\":{\"outlinewidth\":0,\"ticks\":\"\"},\"colorscale\":[[0.0,\"#0d0887\"],[0.1111111111111111,\"#46039f\"],[0.2222222222222222,\"#7201a8\"],[0.3333333333333333,\"#9c179e\"],[0.4444444444444444,\"#bd3786\"],[0.5555555555555556,\"#d8576b\"],[0.6666666666666666,\"#ed7953\"],[0.7777777777777778,\"#fb9f3a\"],[0.8888888888888888,\"#fdca26\"],[1.0,\"#f0f921\"]],\"type\":\"heatmapgl\"}],\"heatmap\":[{\"colorbar\":{\"outlinewidth\":0,\"ticks\":\"\"},\"colorscale\":[[0.0,\"#0d0887\"],[0.1111111111111111,\"#46039f\"],[0.2222222222222222,\"#7201a8\"],[0.3333333333333333,\"#9c179e\"],[0.4444444444444444,\"#bd3786\"],[0.5555555555555556,\"#d8576b\"],[0.6666666666666666,\"#ed7953\"],[0.7777777777777778,\"#fb9f3a\"],[0.8888888888888888,\"#fdca26\"],[1.0,\"#f0f921\"]],\"type\":\"heatmap\"}],\"histogram2dcontour\":[{\"colorbar\":{\"outlinewidth\":0,\"ticks\":\"\"},\"colorscale\":[[0.0,\"#0d0887\"],[0.1111111111111111,\"#46039f\"],[0.2222222222222222,\"#7201a8\"],[0.3333333333333333,\"#9c179e\"],[0.4444444444444444,\"#bd3786\"],[0.5555555555555556,\"#d8576b\"],[0.6666666666666666,\"#ed7953\"],[0.7777777777777778,\"#fb9f3a\"],[0.8888888888888888,\"#fdca26\"],[1.0,\"#f0f921\"]],\"type\":\"histogram2dcontour\"}],\"histogram2d\":[{\"colorbar\":{\"outlinewidth\":0,\"ticks\":\"\"},\"colorscale\":[[0.0,\"#0d0887\"],[0.1111111111111111,\"#46039f\"],[0.2222222222222222,\"#7201a8\"],[0.3333333333333333,\"#9c179e\"],[0.4444444444444444,\"#bd3786\"],[0.5555555555555556,\"#d8576b\"],[0.6666666666666666,\"#ed7953\"],[0.7777777777777778,\"#fb9f3a\"],[0.8888888888888888,\"#fdca26\"],[1.0,\"#f0f921\"]],\"type\":\"histogram2d\"}],\"histogram\":[{\"marker\":{\"pattern\":{\"fillmode\":\"overlay\",\"size\":10,\"solidity\":0.2}},\"type\":\"histogram\"}],\"mesh3d\":[{\"colorbar\":{\"outlinewidth\":0,\"ticks\":\"\"},\"type\":\"mesh3d\"}],\"parcoords\":[{\"line\":{\"colorbar\":{\"outlinewidth\":0,\"ticks\":\"\"}},\"type\":\"parcoords\"}],\"pie\":[{\"automargin\":true,\"type\":\"pie\"}],\"scatter3d\":[{\"line\":{\"colorbar\":{\"outlinewidth\":0,\"ticks\":\"\"}},\"marker\":{\"colorbar\":{\"outlinewidth\":0,\"ticks\":\"\"}},\"type\":\"scatter3d\"}],\"scattercarpet\":[{\"marker\":{\"colorbar\":{\"outlinewidth\":0,\"ticks\":\"\"}},\"type\":\"scattercarpet\"}],\"scattergeo\":[{\"marker\":{\"colorbar\":{\"outlinewidth\":0,\"ticks\":\"\"}},\"type\":\"scattergeo\"}],\"scattergl\":[{\"marker\":{\"colorbar\":{\"outlinewidth\":0,\"ticks\":\"\"}},\"type\":\"scattergl\"}],\"scattermapbox\":[{\"marker\":{\"colorbar\":{\"outlinewidth\":0,\"ticks\":\"\"}},\"type\":\"scattermapbox\"}],\"scatterpolargl\":[{\"marker\":{\"colorbar\":{\"outlinewidth\":0,\"ticks\":\"\"}},\"type\":\"scatterpolargl\"}],\"scatterpolar\":[{\"marker\":{\"colorbar\":{\"outlinewidth\":0,\"ticks\":\"\"}},\"type\":\"scatterpolar\"}],\"scatter\":[{\"fillpattern\":{\"fillmode\":\"overlay\",\"size\":10,\"solidity\":0.2},\"type\":\"scatter\"}],\"scatterternary\":[{\"marker\":{\"colorbar\":{\"outlinewidth\":0,\"ticks\":\"\"}},\"type\":\"scatterternary\"}],\"surface\":[{\"colorbar\":{\"outlinewidth\":0,\"ticks\":\"\"},\"colorscale\":[[0.0,\"#0d0887\"],[0.1111111111111111,\"#46039f\"],[0.2222222222222222,\"#7201a8\"],[0.3333333333333333,\"#9c179e\"],[0.4444444444444444,\"#bd3786\"],[0.5555555555555556,\"#d8576b\"],[0.6666666666666666,\"#ed7953\"],[0.7777777777777778,\"#fb9f3a\"],[0.8888888888888888,\"#fdca26\"],[1.0,\"#f0f921\"]],\"type\":\"surface\"}],\"table\":[{\"cells\":{\"fill\":{\"color\":\"#EBF0F8\"},\"line\":{\"color\":\"white\"}},\"header\":{\"fill\":{\"color\":\"#C8D4E3\"},\"line\":{\"color\":\"white\"}},\"type\":\"table\"}]},\"layout\":{\"annotationdefaults\":{\"arrowcolor\":\"#2a3f5f\",\"arrowhead\":0,\"arrowwidth\":1},\"autotypenumbers\":\"strict\",\"coloraxis\":{\"colorbar\":{\"outlinewidth\":0,\"ticks\":\"\"}},\"colorscale\":{\"diverging\":[[0,\"#8e0152\"],[0.1,\"#c51b7d\"],[0.2,\"#de77ae\"],[0.3,\"#f1b6da\"],[0.4,\"#fde0ef\"],[0.5,\"#f7f7f7\"],[0.6,\"#e6f5d0\"],[0.7,\"#b8e186\"],[0.8,\"#7fbc41\"],[0.9,\"#4d9221\"],[1,\"#276419\"]],\"sequential\":[[0.0,\"#0d0887\"],[0.1111111111111111,\"#46039f\"],[0.2222222222222222,\"#7201a8\"],[0.3333333333333333,\"#9c179e\"],[0.4444444444444444,\"#bd3786\"],[0.5555555555555556,\"#d8576b\"],[0.6666666666666666,\"#ed7953\"],[0.7777777777777778,\"#fb9f3a\"],[0.8888888888888888,\"#fdca26\"],[1.0,\"#f0f921\"]],\"sequentialminus\":[[0.0,\"#0d0887\"],[0.1111111111111111,\"#46039f\"],[0.2222222222222222,\"#7201a8\"],[0.3333333333333333,\"#9c179e\"],[0.4444444444444444,\"#bd3786\"],[0.5555555555555556,\"#d8576b\"],[0.6666666666666666,\"#ed7953\"],[0.7777777777777778,\"#fb9f3a\"],[0.8888888888888888,\"#fdca26\"],[1.0,\"#f0f921\"]]},\"colorway\":[\"#636efa\",\"#EF553B\",\"#00cc96\",\"#ab63fa\",\"#FFA15A\",\"#19d3f3\",\"#FF6692\",\"#B6E880\",\"#FF97FF\",\"#FECB52\"],\"font\":{\"color\":\"#2a3f5f\"},\"geo\":{\"bgcolor\":\"white\",\"lakecolor\":\"white\",\"landcolor\":\"white\",\"showlakes\":true,\"showland\":true,\"subunitcolor\":\"#C8D4E3\"},\"hoverlabel\":{\"align\":\"left\"},\"hovermode\":\"closest\",\"mapbox\":{\"style\":\"light\"},\"paper_bgcolor\":\"white\",\"plot_bgcolor\":\"white\",\"polar\":{\"angularaxis\":{\"gridcolor\":\"#EBF0F8\",\"linecolor\":\"#EBF0F8\",\"ticks\":\"\"},\"bgcolor\":\"white\",\"radialaxis\":{\"gridcolor\":\"#EBF0F8\",\"linecolor\":\"#EBF0F8\",\"ticks\":\"\"}},\"scene\":{\"xaxis\":{\"backgroundcolor\":\"white\",\"gridcolor\":\"#DFE8F3\",\"gridwidth\":2,\"linecolor\":\"#EBF0F8\",\"showbackground\":true,\"ticks\":\"\",\"zerolinecolor\":\"#EBF0F8\"},\"yaxis\":{\"backgroundcolor\":\"white\",\"gridcolor\":\"#DFE8F3\",\"gridwidth\":2,\"linecolor\":\"#EBF0F8\",\"showbackground\":true,\"ticks\":\"\",\"zerolinecolor\":\"#EBF0F8\"},\"zaxis\":{\"backgroundcolor\":\"white\",\"gridcolor\":\"#DFE8F3\",\"gridwidth\":2,\"linecolor\":\"#EBF0F8\",\"showbackground\":true,\"ticks\":\"\",\"zerolinecolor\":\"#EBF0F8\"}},\"shapedefaults\":{\"line\":{\"color\":\"#2a3f5f\"}},\"ternary\":{\"aaxis\":{\"gridcolor\":\"#DFE8F3\",\"linecolor\":\"#A2B1C6\",\"ticks\":\"\"},\"baxis\":{\"gridcolor\":\"#DFE8F3\",\"linecolor\":\"#A2B1C6\",\"ticks\":\"\"},\"bgcolor\":\"white\",\"caxis\":{\"gridcolor\":\"#DFE8F3\",\"linecolor\":\"#A2B1C6\",\"ticks\":\"\"}},\"title\":{\"x\":0.05},\"xaxis\":{\"automargin\":true,\"gridcolor\":\"#EBF0F8\",\"linecolor\":\"#EBF0F8\",\"ticks\":\"\",\"title\":{\"standoff\":15},\"zerolinecolor\":\"#EBF0F8\",\"zerolinewidth\":2},\"yaxis\":{\"automargin\":true,\"gridcolor\":\"#EBF0F8\",\"linecolor\":\"#EBF0F8\",\"ticks\":\"\",\"title\":{\"standoff\":15},\"zerolinecolor\":\"#EBF0F8\",\"zerolinewidth\":2}}},\"xaxis\":{\"anchor\":\"y\",\"domain\":[0.0,1.0],\"title\":{\"text\":\"0_warming_carbon_environment_solar\"}},\"yaxis\":{\"anchor\":\"x\",\"domain\":[0.0,1.0],\"title\":{\"text\":\"1_religious_religion_church_religions\"}},\"legend\":{\"tracegroupgap\":0},\"margin\":{\"t\":5,\"l\":5,\"r\":5,\"b\":5},\"font\":{\"family\":\"Roboto Mono\",\"color\":\"black\",\"size\":21},\"shapes\":[{\"line\":{\"color\":\"black\",\"width\":4},\"type\":\"line\",\"x0\":0,\"x1\":1,\"xref\":\"x domain\",\"y0\":0,\"y1\":0,\"yref\":\"y\"},{\"line\":{\"color\":\"black\",\"width\":4},\"type\":\"line\",\"x0\":0,\"x1\":0,\"xref\":\"x\",\"y0\":0,\"y1\":1,\"yref\":\"y domain\"}]},                        {\"responsive\": true}                    ).then(function(){\n",
              "                            \n",
              "var gd = document.getElementById('59a8b901-25fd-4abd-9b91-d2886b968391');\n",
              "var x = new MutationObserver(function (mutations, observer) {{\n",
              "        var display = window.getComputedStyle(gd).display;\n",
              "        if (!display || display === 'none') {{\n",
              "            console.log([gd, 'removed!']);\n",
              "            Plotly.purge(gd);\n",
              "            observer.disconnect();\n",
              "        }}\n",
              "}});\n",
              "\n",
              "// Listen for the removal of the full notebook cells\n",
              "var notebookContainer = gd.closest('#notebook-container');\n",
              "if (notebookContainer) {{\n",
              "    x.observe(notebookContainer, {childList: true});\n",
              "}}\n",
              "\n",
              "// Listen for the clearing of the current output cell\n",
              "var outputEl = gd.closest('.output');\n",
              "if (outputEl) {{\n",
              "    x.observe(outputEl, {childList: true});\n",
              "}}\n",
              "\n",
              "                        })                };                            </script>        </div>\n",
              "</body>\n",
              "</html>"
            ]
          },
          "metadata": {}
        }
      ]
    }
  ]
}