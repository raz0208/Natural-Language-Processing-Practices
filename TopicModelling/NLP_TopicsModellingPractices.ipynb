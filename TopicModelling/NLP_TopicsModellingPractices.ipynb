{
  "nbformat": 4,
  "nbformat_minor": 0,
  "metadata": {
    "colab": {
      "provenance": [],
      "authorship_tag": "ABX9TyNDpG3nHd6PZd6IVstbOit4",
      "include_colab_link": true
    },
    "kernelspec": {
      "name": "python3",
      "display_name": "Python 3"
    },
    "language_info": {
      "name": "python"
    }
  },
  "cells": [
    {
      "cell_type": "markdown",
      "metadata": {
        "id": "view-in-github",
        "colab_type": "text"
      },
      "source": [
        "<a href=\"https://colab.research.google.com/github/raz0208/Natural-Language-Processing-Practices/blob/main/TopicModelling/NLP_TopicsModellingPractices.ipynb\" target=\"_parent\"><img src=\"https://colab.research.google.com/assets/colab-badge.svg\" alt=\"Open In Colab\"/></a>"
      ]
    },
    {
      "cell_type": "markdown",
      "source": [
        "## Topic Modelling Practices in NLP\n",
        "\n",
        "\n",
        "1. Semantic Signal Separation\n",
        "2. KeyNMF\n",
        "3. ClusteringTopicModel"
      ],
      "metadata": {
        "id": "mZciAE4WQmRj"
      }
    },
    {
      "cell_type": "markdown",
      "source": [
        "### 1. Semantic Signal Separation"
      ],
      "metadata": {
        "id": "YHbfCR5TQqYC"
      }
    },
    {
      "cell_type": "code",
      "execution_count": 1,
      "metadata": {
        "id": "3hwL7Oe1QiZe"
      },
      "outputs": [],
      "source": [
        "!pip install -q transformers datasets huggingface_hub"
      ]
    }
  ]
}