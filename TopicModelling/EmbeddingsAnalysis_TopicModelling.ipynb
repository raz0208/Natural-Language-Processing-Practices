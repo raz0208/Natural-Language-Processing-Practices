{
  "nbformat": 4,
  "nbformat_minor": 0,
  "metadata": {
    "colab": {
      "provenance": [],
      "gpuType": "T4",
      "authorship_tag": "ABX9TyP6USIvZ6iSwUpf2Cl/MD9R",
      "include_colab_link": true
    },
    "kernelspec": {
      "name": "python3",
      "display_name": "Python 3"
    },
    "language_info": {
      "name": "python"
    },
    "accelerator": "GPU"
  },
  "cells": [
    {
      "cell_type": "markdown",
      "metadata": {
        "id": "view-in-github",
        "colab_type": "text"
      },
      "source": [
        "<a href=\"https://colab.research.google.com/github/raz0208/Natural-Language-Processing-Practices/blob/main/TopicModelling/EmbeddingsAnalysis_TopicModelling.ipynb\" target=\"_parent\"><img src=\"https://colab.research.google.com/assets/colab-badge.svg\" alt=\"Open In Colab\"/></a>"
      ]
    },
    {
      "cell_type": "markdown",
      "source": [
        "## Topic Modelling"
      ],
      "metadata": {
        "id": "wJ7UNRIc6tRh"
      }
    },
    {
      "cell_type": "markdown",
      "source": [
        "## Semantic Signal Separation"
      ],
      "metadata": {
        "id": "PHPjasMOZf7o"
      }
    },
    {
      "cell_type": "code",
      "execution_count": null,
      "metadata": {
        "id": "-_hxnl04ZF_b"
      },
      "outputs": [],
      "source": [
        "# Import required libraries\n",
        "import pandas as pd\n",
        "import numpy as np\n",
        "import matplotlib.pyplot as plt\n",
        "import seaborn as sns\n",
        "import os"
      ]
    },
    {
      "cell_type": "code",
      "source": [
        "# Read and load dataset\n",
        "dataset = pd.read_csv('gdb_dataset.csv')\n",
        "\n",
        "# Show the datasets\n",
        "### Abstract Embeddings Sample Dataset\n",
        "print('Node Content:', dataset.shape)\n",
        "print(dataset)"
      ],
      "metadata": {
        "id": "2DO8uUUHagSV"
      },
      "execution_count": null,
      "outputs": []
    },
    {
      "cell_type": "code",
      "source": [
        "# Extract only the 'abstract' column and drop others\n",
        "abstracts = dataset['abstract'].dropna().reset_index(drop=True)\n",
        "\n",
        "# Display a few samples to verify\n",
        "abstracts"
      ],
      "metadata": {
        "id": "yFa8EndR73rE"
      },
      "execution_count": null,
      "outputs": []
    },
    {
      "cell_type": "code",
      "source": [
        "from sentence_transformers import SentenceTransformer"
      ],
      "metadata": {
        "id": "4qw22XgdXWS5"
      },
      "execution_count": null,
      "outputs": []
    },
    {
      "cell_type": "code",
      "source": [
        "encoder = SentenceTransformer('paraphrase-MiniLM-L12-v2')\n",
        "embeddings = encoder.encode(abstracts, show_progress_bar=True)"
      ],
      "metadata": {
        "collapsed": true,
        "id": "Zrr5d_oIYvZA"
      },
      "execution_count": null,
      "outputs": []
    },
    {
      "cell_type": "code",
      "source": [
        "embeddings"
      ],
      "metadata": {
        "id": "vuU3GVSKY5Zt"
      },
      "execution_count": null,
      "outputs": []
    },
    {
      "cell_type": "code",
      "source": [
        "import torch\n",
        "from transformers import AutoTokenizer, AutoModelForMaskedLM"
      ],
      "metadata": {
        "id": "2vWNo8M8HKg7"
      },
      "execution_count": null,
      "outputs": []
    },
    {
      "cell_type": "code",
      "source": [
        "# Load ModernBERT tokenizer and model from Hugging Face\n",
        "model_name = 'answerdotai/ModernBERT-base'\n",
        "tokenizer = AutoTokenizer.from_pretrained(model_name)\n",
        "model = AutoModelForMaskedLM.from_pretrained(model_name)"
      ],
      "metadata": {
        "collapsed": true,
        "id": "eJf89AnpIQ58"
      },
      "execution_count": null,
      "outputs": []
    },
    {
      "cell_type": "code",
      "source": [
        "# Function to get inpout text and return full text embedding (Edit code to get embedding sentence by sentence)\n",
        "def get_text_embeddings(text):\n",
        "    # Tokenize input text\n",
        "    inputs = tokenizer(text.tolist(), return_tensors='pt', padding=True, truncation=True)\n",
        "\n",
        "    # Forward pass to get hidden states\n",
        "    with torch.no_grad():\n",
        "        outputs = model(**inputs)\n",
        "\n",
        "    # Get the embeddings (use CLS token for sentence-level embedding)\n",
        "    cls_embedding = outputs.last_hidden_state[:, 0, :]  # shape: [batch_size, hidden_size]\n",
        "\n",
        "    return cls_embedding.squeeze().numpy()"
      ],
      "metadata": {
        "id": "6pWc5BA-Kb-m"
      },
      "execution_count": null,
      "outputs": []
    },
    {
      "cell_type": "code",
      "source": [
        "# Ensure all text entries are strings (handle potential non-string entries)\n",
        "abstract_cleaned = abstracts.astype(str)\n",
        "\n",
        "# Get embeddings for each abstract\n",
        "full_text_embeddings = get_text_embeddings(abstract_cleaned)\n",
        "\n",
        "# Show results\n",
        "print(\"\\nEmbeddings shape:\", full_text_embeddings.shape)\n",
        "print(\"First embedding vector (10 values):\", full_text_embeddings[0][:10])"
      ],
      "metadata": {
        "id": "i0OFH43JKme9"
      },
      "execution_count": null,
      "outputs": []
    }
  ]
}