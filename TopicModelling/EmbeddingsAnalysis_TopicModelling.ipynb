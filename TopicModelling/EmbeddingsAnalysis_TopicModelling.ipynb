{
  "nbformat": 4,
  "nbformat_minor": 0,
  "metadata": {
    "colab": {
      "provenance": [],
      "authorship_tag": "ABX9TyNqpA6vK23bZ2v9mXT0StEx",
      "include_colab_link": true
    },
    "kernelspec": {
      "name": "python3",
      "display_name": "Python 3"
    },
    "language_info": {
      "name": "python"
    }
  },
  "cells": [
    {
      "cell_type": "markdown",
      "metadata": {
        "id": "view-in-github",
        "colab_type": "text"
      },
      "source": [
        "<a href=\"https://colab.research.google.com/github/raz0208/Natural-Language-Processing-Practices/blob/main/TopicModelling/EmbeddingsAnalysis_TopicModelling.ipynb\" target=\"_parent\"><img src=\"https://colab.research.google.com/assets/colab-badge.svg\" alt=\"Open In Colab\"/></a>"
      ]
    },
    {
      "cell_type": "markdown",
      "source": [
        "## Topic Modelling"
      ],
      "metadata": {
        "id": "wJ7UNRIc6tRh"
      }
    },
    {
      "cell_type": "markdown",
      "source": [
        "## Semantic Signal Separation"
      ],
      "metadata": {
        "id": "PHPjasMOZf7o"
      }
    },
    {
      "cell_type": "code",
      "execution_count": 2,
      "metadata": {
        "id": "-_hxnl04ZF_b"
      },
      "outputs": [],
      "source": [
        "# Import required libraries\n",
        "import pandas as pd\n",
        "import numpy as np\n",
        "import matplotlib.pyplot as plt\n",
        "import seaborn as sns\n",
        "import os"
      ]
    },
    {
      "cell_type": "code",
      "source": [
        "# Read and load dataset\n",
        "dataset = pd.read_csv('gdb_dataset.csv')\n",
        "\n",
        "# Show the datasets\n",
        "### Abstract Embeddings Sample Dataset\n",
        "print('Node Content:', dataset.shape)\n",
        "print(dataset)"
      ],
      "metadata": {
        "colab": {
          "base_uri": "https://localhost:8080/"
        },
        "id": "2DO8uUUHagSV",
        "outputId": "aeee1d80-5db3-4e2b-c9d6-556a31635eda"
      },
      "execution_count": 9,
      "outputs": [
        {
          "output_type": "stream",
          "name": "stdout",
          "text": [
            "Node Content: (1000, 4)\n",
            "     Unnamed: 0                                              title  \\\n",
            "0             0  Phenotypic variability of Niemann-Pick disease...   \n",
            "1             1  Recurrent hypoglycemia secondary to metformin ...   \n",
            "2             2  Adaptation of the Ambulatory and Home Care Rec...   \n",
            "3             3  Multidimensional family therapy in adolescents...   \n",
            "4             4  Balanced crystalloids versus isotonic saline i...   \n",
            "..          ...                                                ...   \n",
            "995         995  Molecular Sex Identification in Dioecious  Hip...   \n",
            "996         996  Antimicrobial Peptides: Powerful Biorecognitio...   \n",
            "997         997  Analysis of Metabolites in White Flowers of  M...   \n",
            "998         998  Improved Cold Tolerance of Mango Fruit with En...   \n",
            "999         999  Characterization of the Complete Chloroplast G...   \n",
            "\n",
            "                                              abstract  year  \n",
            "0    Background Niemann-Pick disease type C (NPC) i...  2018  \n",
            "1    Background Metformin toxicity is well known to...  2018  \n",
            "2    Background Measuring service use and costs is ...  2018  \n",
            "3    Background Substance use and delinquency are c...  2018  \n",
            "4    Objectives Intravenous fluids are one of the m...  2018  \n",
            "..                                                 ...   ...  \n",
            "995  The dioecious property of the sea buckthorn ( ...  2018  \n",
            "996  Bacterial infections represent a serious threa...  2018  \n",
            "997  A total of seven phenolics and 44 metabolites ...  2018  \n",
            "998  Red fruits were suggested to be tolerant to co...  2018  \n",
            "999  Buddleja colvilei Hook.f. & Thomson (Scrophula...  2018  \n",
            "\n",
            "[1000 rows x 4 columns]\n"
          ]
        }
      ]
    },
    {
      "cell_type": "code",
      "source": [
        "# Extract only the 'abstract' column and drop others\n",
        "abstracts = dataset['abstract'].dropna().reset_index(drop=True)\n",
        "\n",
        "# Display a few samples to verify\n",
        "abstracts"
      ],
      "metadata": {
        "colab": {
          "base_uri": "https://localhost:8080/",
          "height": 458
        },
        "id": "yFa8EndR73rE",
        "outputId": "a7b4d75e-f9fd-41ef-f5bb-8ff65a9aad5c"
      },
      "execution_count": 12,
      "outputs": [
        {
          "output_type": "execute_result",
          "data": {
            "text/plain": [
              "0      Background Niemann-Pick disease type C (NPC) i...\n",
              "1      Background Metformin toxicity is well known to...\n",
              "2      Background Measuring service use and costs is ...\n",
              "3      Background Substance use and delinquency are c...\n",
              "4      Objectives Intravenous fluids are one of the m...\n",
              "                             ...                        \n",
              "995    The dioecious property of the sea buckthorn ( ...\n",
              "996    Bacterial infections represent a serious threa...\n",
              "997    A total of seven phenolics and 44 metabolites ...\n",
              "998    Red fruits were suggested to be tolerant to co...\n",
              "999    Buddleja colvilei Hook.f. & Thomson (Scrophula...\n",
              "Name: abstract, Length: 1000, dtype: object"
            ],
            "text/html": [
              "<div>\n",
              "<style scoped>\n",
              "    .dataframe tbody tr th:only-of-type {\n",
              "        vertical-align: middle;\n",
              "    }\n",
              "\n",
              "    .dataframe tbody tr th {\n",
              "        vertical-align: top;\n",
              "    }\n",
              "\n",
              "    .dataframe thead th {\n",
              "        text-align: right;\n",
              "    }\n",
              "</style>\n",
              "<table border=\"1\" class=\"dataframe\">\n",
              "  <thead>\n",
              "    <tr style=\"text-align: right;\">\n",
              "      <th></th>\n",
              "      <th>abstract</th>\n",
              "    </tr>\n",
              "  </thead>\n",
              "  <tbody>\n",
              "    <tr>\n",
              "      <th>0</th>\n",
              "      <td>Background Niemann-Pick disease type C (NPC) i...</td>\n",
              "    </tr>\n",
              "    <tr>\n",
              "      <th>1</th>\n",
              "      <td>Background Metformin toxicity is well known to...</td>\n",
              "    </tr>\n",
              "    <tr>\n",
              "      <th>2</th>\n",
              "      <td>Background Measuring service use and costs is ...</td>\n",
              "    </tr>\n",
              "    <tr>\n",
              "      <th>3</th>\n",
              "      <td>Background Substance use and delinquency are c...</td>\n",
              "    </tr>\n",
              "    <tr>\n",
              "      <th>4</th>\n",
              "      <td>Objectives Intravenous fluids are one of the m...</td>\n",
              "    </tr>\n",
              "    <tr>\n",
              "      <th>...</th>\n",
              "      <td>...</td>\n",
              "    </tr>\n",
              "    <tr>\n",
              "      <th>995</th>\n",
              "      <td>The dioecious property of the sea buckthorn ( ...</td>\n",
              "    </tr>\n",
              "    <tr>\n",
              "      <th>996</th>\n",
              "      <td>Bacterial infections represent a serious threa...</td>\n",
              "    </tr>\n",
              "    <tr>\n",
              "      <th>997</th>\n",
              "      <td>A total of seven phenolics and 44 metabolites ...</td>\n",
              "    </tr>\n",
              "    <tr>\n",
              "      <th>998</th>\n",
              "      <td>Red fruits were suggested to be tolerant to co...</td>\n",
              "    </tr>\n",
              "    <tr>\n",
              "      <th>999</th>\n",
              "      <td>Buddleja colvilei Hook.f. &amp; Thomson (Scrophula...</td>\n",
              "    </tr>\n",
              "  </tbody>\n",
              "</table>\n",
              "<p>1000 rows × 1 columns</p>\n",
              "</div><br><label><b>dtype:</b> object</label>"
            ]
          },
          "metadata": {},
          "execution_count": 12
        }
      ]
    }
  ]
}