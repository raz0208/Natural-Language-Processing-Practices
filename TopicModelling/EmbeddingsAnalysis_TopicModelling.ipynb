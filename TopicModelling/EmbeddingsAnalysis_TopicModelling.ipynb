{
  "nbformat": 4,
  "nbformat_minor": 0,
  "metadata": {
    "colab": {
      "provenance": [],
      "authorship_tag": "ABX9TyNdrvr4filYcFYdGmLlKuG1",
      "include_colab_link": true
    },
    "kernelspec": {
      "name": "python3",
      "display_name": "Python 3"
    },
    "language_info": {
      "name": "python"
    }
  },
  "cells": [
    {
      "cell_type": "markdown",
      "metadata": {
        "id": "view-in-github",
        "colab_type": "text"
      },
      "source": [
        "<a href=\"https://colab.research.google.com/github/raz0208/Natural-Language-Processing-Practices/blob/main/TopicModelling/EmbeddingsAnalysis_TopicModelling.ipynb\" target=\"_parent\"><img src=\"https://colab.research.google.com/assets/colab-badge.svg\" alt=\"Open In Colab\"/></a>"
      ]
    },
    {
      "cell_type": "markdown",
      "source": [
        "## Topic Modelling"
      ],
      "metadata": {
        "id": "wJ7UNRIc6tRh"
      }
    },
    {
      "cell_type": "markdown",
      "source": [
        "## Semantic Signal Separation"
      ],
      "metadata": {
        "id": "PHPjasMOZf7o"
      }
    },
    {
      "cell_type": "code",
      "source": [
        "!pip install turftopic"
      ],
      "metadata": {
        "collapsed": true,
        "id": "asQYuuu2XiKh"
      },
      "execution_count": null,
      "outputs": []
    },
    {
      "cell_type": "code",
      "execution_count": null,
      "metadata": {
        "id": "-_hxnl04ZF_b"
      },
      "outputs": [],
      "source": [
        "# Import required libraries\n",
        "import os\n",
        "import numpy as np\n",
        "import pandas as pd\n",
        "import matplotlib.pyplot as plt\n",
        "import seaborn as sns\n",
        "import torch\n",
        "from transformers import AutoTokenizer, AutoModel"
      ]
    },
    {
      "cell_type": "code",
      "source": [
        "# Load ModernBERT tokenizer and model from Hugging Face\n",
        "MODEL_NAME = \"answerdotai/ModernBERT-base\"\n",
        "tokenizer = AutoTokenizer.from_pretrained(MODEL_NAME)\n",
        "model = AutoModel.from_pretrained(MODEL_NAME)"
      ],
      "metadata": {
        "collapsed": true,
        "id": "ossNQvKBJ-Fy"
      },
      "execution_count": null,
      "outputs": []
    },
    {
      "cell_type": "code",
      "source": [
        "# Function to get inpout text and return full text embedding (Edit code to get embedding sentence by sentence)\n",
        "def get_text_embedding(text):\n",
        "    # Tokenize input text\n",
        "    inputs = tokenizer(text, return_tensors=\"pt\", truncation=True, padding=True)\n",
        "\n",
        "    # Forward pass to get hidden states\n",
        "    with torch.no_grad():\n",
        "        outputs = model(**inputs)\n",
        "\n",
        "    # Get the embeddings (use CLS token for sentence-level embedding)\n",
        "    cls_embedding = outputs.last_hidden_state[:, 0, :]  # shape: [batch_size, hidden_size]\n",
        "\n",
        "    return cls_embedding.squeeze().numpy()"
      ],
      "metadata": {
        "id": "frp2DWcWKAwx"
      },
      "execution_count": null,
      "outputs": []
    },
    {
      "cell_type": "code",
      "source": [
        "# Read and load dataset\n",
        "dataset = pd.read_csv('gdb_abstract.csv')\n",
        "\n",
        "# Show the datasets\n",
        "### Abstract Embeddings Sample Dataset\n",
        "print('Node Content:', dataset.shape)\n",
        "print(dataset)"
      ],
      "metadata": {
        "id": "2DO8uUUHagSV"
      },
      "execution_count": null,
      "outputs": []
    },
    {
      "cell_type": "code",
      "source": [
        "# Extract only the 'abstract' column and drop others\n",
        "abstracts = dataset['abstract'].dropna().reset_index(drop=True)\n",
        "\n",
        "# # sample the dataset\n",
        "# abstracts = abstracts[995]\n",
        "\n",
        "# Display a few samples to verify\n",
        "print(abstracts)"
      ],
      "metadata": {
        "id": "yFa8EndR73rE"
      },
      "execution_count": null,
      "outputs": []
    },
    {
      "cell_type": "code",
      "source": [
        "from tqdm import tqdm"
      ],
      "metadata": {
        "id": "qlFhOEWZMooi"
      },
      "execution_count": null,
      "outputs": []
    },
    {
      "cell_type": "code",
      "source": [
        "# embeddings = []\n",
        "# # Loop through rows and extract embeddings\n",
        "# for text in tqdm(abstracts, desc=\"Extracting embeddings\"):\n",
        "#     embedding = get_text_embedding(str(text))\n",
        "#     embeddings.append(embedding)\n",
        "\n",
        "# Read abstract_embeddings.csv\n",
        "embeddings = pd.read_csv('abstract_embeddings.csv')\n",
        "embeddings = embeddings.values"
      ],
      "metadata": {
        "collapsed": true,
        "id": "1ZUw152yKQsA"
      },
      "execution_count": null,
      "outputs": []
    },
    {
      "cell_type": "code",
      "source": [
        "# Save the embedding to a csv file\n",
        "embedding_df = pd.DataFrame(embeddings)\n",
        "embedding_df.to_csv('abstract_embeddings.csv', index=False)\n",
        "\n",
        "# Show first 10 embeddings\n",
        "embeddings[:10]"
      ],
      "metadata": {
        "id": "vA-K3uCcUtea"
      },
      "execution_count": null,
      "outputs": []
    },
    {
      "cell_type": "code",
      "source": [
        "# get a sample\n",
        "sample = embeddings[0]\n",
        "\n",
        "sample.shape"
      ],
      "metadata": {
        "id": "MQpBWDSJ5CgI"
      },
      "execution_count": null,
      "outputs": []
    },
    {
      "cell_type": "markdown",
      "source": [
        "## Topic Modelling using turftopics\n",
        "1. Semantic Signal Separation\n",
        "2. KeyNMF\n",
        "3. ClusteringTopicModel"
      ],
      "metadata": {
        "id": "xgRiMyliZJrt"
      }
    },
    {
      "cell_type": "markdown",
      "source": [
        "### Semantic Signal Separation"
      ],
      "metadata": {
        "id": "3hfsPJGtZZBr"
      }
    },
    {
      "cell_type": "code",
      "source": [
        "# import turftopics library \"SemanticSignalSeparation\"\n",
        "from turftopic import SemanticSignalSeparation"
      ],
      "metadata": {
        "id": "DjW-cOojZu_U"
      },
      "execution_count": null,
      "outputs": []
    },
    {
      "cell_type": "code",
      "source": [
        "# Initialize SemanticSignalSeparation with your encoder\n",
        "model = SemanticSignalSeparation(4, encoder=\"answerdotai/ModernBERT-base\", random_state=42)\n",
        "\n",
        "# Fit the model using both abstracts and their precomputed embeddings\n",
        "doc_topic_matrix = model.fit_transform(abstracts, embeddings=embeddings)"
      ],
      "metadata": {
        "collapsed": true,
        "id": "_O_81oKXZ0ej"
      },
      "execution_count": null,
      "outputs": []
    },
    {
      "cell_type": "code",
      "source": [
        "model.print_topics(top_k=10)"
      ],
      "metadata": {
        "id": "L6E2-ffiokoP"
      },
      "execution_count": null,
      "outputs": []
    },
    {
      "cell_type": "code",
      "source": [
        "model.plot_concept_compass(0, 1)"
      ],
      "metadata": {
        "id": "LGarkaW9opgm"
      },
      "execution_count": null,
      "outputs": []
    },
    {
      "cell_type": "code",
      "source": [
        "model.rename_topics({\n",
        "    0: \"Topic0\",\n",
        "    1: \"Topic1\",\n",
        "    2: \"Topic2\",\n",
        "    3: \"Topic4\",\n",
        "})"
      ],
      "metadata": {
        "id": "HwWi2IiLp-me"
      },
      "execution_count": null,
      "outputs": []
    },
    {
      "cell_type": "code",
      "source": [
        "model.print_topic_distribution(\"I am a socialist and I am concerned with the growing inequality in our societies. I'd like to see governments do more to prevent the exploitation of workers.\")"
      ],
      "metadata": {
        "id": "DWHCjUzlqha8"
      },
      "execution_count": null,
      "outputs": []
    },
    {
      "cell_type": "code",
      "source": [
        "import plotly.express as px\n",
        "\n",
        "df = pd.DataFrame(doc_topic_matrix, columns=model.topic_names)\n",
        "\n",
        "fig = px.scatter_matrix(df, dimensions=model.topic_names, color=\"Topic0\", template=\"plotly_white\")\n",
        "fig = fig.update_traces(diagonal_visible=False, showupperhalf=False, marker=dict(opacity=0.6))\n",
        "fig.show()"
      ],
      "metadata": {
        "id": "Rw50XOppqmfE"
      },
      "execution_count": null,
      "outputs": []
    },
    {
      "cell_type": "markdown",
      "source": [
        "### KeyNMF"
      ],
      "metadata": {
        "id": "BCgxYPHf3O9e"
      }
    },
    {
      "cell_type": "code",
      "source": [
        "!pip install turftopic[topic-wizard]"
      ],
      "metadata": {
        "id": "7z8U-FjN3OyG"
      },
      "execution_count": null,
      "outputs": []
    },
    {
      "cell_type": "code",
      "source": [
        "from turftopic import KeyNMF\n",
        "\n",
        "model1 = KeyNMF(\n",
        "    n_components=15,\n",
        "    random_state=42,\n",
        "    encoder=\"answerdotai/ModernBERT-base\",\n",
        "    seed_phrase=\"Religion and Morality\"\n",
        ")\n",
        "topic_data = model1.prepare_topic_data(abstracts, embeddings=embeddings)"
      ],
      "metadata": {
        "id": "Z7vAfH5E-Bfr"
      },
      "execution_count": null,
      "outputs": []
    },
    {
      "cell_type": "code",
      "source": [
        "topic_data.print_topics()"
      ],
      "metadata": {
        "id": "0xKeXdPU_jL4"
      },
      "execution_count": null,
      "outputs": []
    },
    {
      "cell_type": "code",
      "source": [
        "topic_data.print_representative_documents(11)"
      ],
      "metadata": {
        "id": "NuHonRQb_xDH"
      },
      "execution_count": null,
      "outputs": []
    },
    {
      "cell_type": "code",
      "source": [
        "fig = topic_data.figures.word_map()\n",
        "fig.show()"
      ],
      "metadata": {
        "id": "rF6ejvuw_3S6"
      },
      "execution_count": null,
      "outputs": []
    },
    {
      "cell_type": "code",
      "source": [
        "import plotly.express as px\n",
        "\n",
        "groups = [\n",
        "    \"group1\",\n",
        "    \"group2\",\n",
        "    \"group3\",\n",
        "]\n",
        "\n",
        "doc_topic_df = pd.DataFrame(topic_data.document_topic_matrix, columns=model.topic_names)\n",
        "doc_topic_df[\"group\"] = np.random.choice(groups, size=len(doc_topic_df))  # Replace with real labels if available\n",
        "group_topic_matrix = doc_topic_df.groupby(\"group\").mean()\n",
        "\n",
        "fig = px.imshow(group_topic_matrix,\n",
        "                labels=dict(x=\"Topic\", y=\"Group\", color=\"Intensity\"),\n",
        "                x=group_topic_matrix.columns,\n",
        "                y=group_topic_matrix.index)\n",
        "fig.show()\n"
      ],
      "metadata": {
        "id": "dt4H0xhtCif6"
      },
      "execution_count": null,
      "outputs": []
    }
  ]
}