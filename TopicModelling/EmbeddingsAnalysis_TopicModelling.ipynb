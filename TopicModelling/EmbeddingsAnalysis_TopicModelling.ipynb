{
  "nbformat": 4,
  "nbformat_minor": 0,
  "metadata": {
    "colab": {
      "provenance": [],
      "gpuType": "T4",
      "authorship_tag": "ABX9TyOl17kpD0qQoGTuo7acvtoi",
      "include_colab_link": true
    },
    "kernelspec": {
      "name": "python3",
      "display_name": "Python 3"
    },
    "language_info": {
      "name": "python"
    },
    "accelerator": "GPU"
  },
  "cells": [
    {
      "cell_type": "markdown",
      "metadata": {
        "id": "view-in-github",
        "colab_type": "text"
      },
      "source": [
        "<a href=\"https://colab.research.google.com/github/raz0208/Natural-Language-Processing-Practices/blob/main/TopicModelling/EmbeddingsAnalysis_TopicModelling.ipynb\" target=\"_parent\"><img src=\"https://colab.research.google.com/assets/colab-badge.svg\" alt=\"Open In Colab\"/></a>"
      ]
    },
    {
      "cell_type": "markdown",
      "source": [
        "## Topic Modelling"
      ],
      "metadata": {
        "id": "wJ7UNRIc6tRh"
      }
    },
    {
      "cell_type": "markdown",
      "source": [
        "## Semantic Signal Separation"
      ],
      "metadata": {
        "id": "PHPjasMOZf7o"
      }
    },
    {
      "cell_type": "code",
      "execution_count": null,
      "metadata": {
        "id": "-_hxnl04ZF_b"
      },
      "outputs": [],
      "source": [
        "# Import required libraries\n",
        "import pandas as pd\n",
        "import numpy as np\n",
        "import matplotlib.pyplot as plt\n",
        "import seaborn as sns\n",
        "import os"
      ]
    },
    {
      "cell_type": "code",
      "source": [
        "# Read and load dataset\n",
        "dataset = pd.read_csv('gdb_dataset.csv')\n",
        "\n",
        "# Show the datasets\n",
        "### Abstract Embeddings Sample Dataset\n",
        "print('Node Content:', dataset.shape)\n",
        "print(dataset)"
      ],
      "metadata": {
        "colab": {
          "base_uri": "https://localhost:8080/"
        },
        "id": "2DO8uUUHagSV",
        "outputId": "4a34f370-6f07-4707-ae1e-55b58b83315c"
      },
      "execution_count": 38,
      "outputs": [
        {
          "output_type": "stream",
          "name": "stdout",
          "text": [
            "Node Content: (1000, 4)\n",
            "     Unnamed: 0                                              title  \\\n",
            "0             0  Phenotypic variability of Niemann-Pick disease...   \n",
            "1             1  Recurrent hypoglycemia secondary to metformin ...   \n",
            "2             2  Adaptation of the Ambulatory and Home Care Rec...   \n",
            "3             3  Multidimensional family therapy in adolescents...   \n",
            "4             4  Balanced crystalloids versus isotonic saline i...   \n",
            "..          ...                                                ...   \n",
            "995         995  Molecular Sex Identification in Dioecious  Hip...   \n",
            "996         996  Antimicrobial Peptides: Powerful Biorecognitio...   \n",
            "997         997  Analysis of Metabolites in White Flowers of  M...   \n",
            "998         998  Improved Cold Tolerance of Mango Fruit with En...   \n",
            "999         999  Characterization of the Complete Chloroplast G...   \n",
            "\n",
            "                                              abstract  year  \n",
            "0    Background Niemann-Pick disease type C (NPC) i...  2018  \n",
            "1    Background Metformin toxicity is well known to...  2018  \n",
            "2    Background Measuring service use and costs is ...  2018  \n",
            "3    Background Substance use and delinquency are c...  2018  \n",
            "4    Objectives Intravenous fluids are one of the m...  2018  \n",
            "..                                                 ...   ...  \n",
            "995  The dioecious property of the sea buckthorn ( ...  2018  \n",
            "996  Bacterial infections represent a serious threa...  2018  \n",
            "997  A total of seven phenolics and 44 metabolites ...  2018  \n",
            "998  Red fruits were suggested to be tolerant to co...  2018  \n",
            "999  Buddleja colvilei Hook.f. & Thomson (Scrophula...  2018  \n",
            "\n",
            "[1000 rows x 4 columns]\n"
          ]
        }
      ]
    },
    {
      "cell_type": "code",
      "source": [
        "# Extract only the 'abstract' column and drop others\n",
        "abstracts = dataset['abstract'].dropna().reset_index(drop=True)\n",
        "\n",
        "# sample the dataset\n",
        "abstracts = abstracts.loc[:10]\n",
        "\n",
        "# Display a few samples to verify\n",
        "abstracts"
      ],
      "metadata": {
        "colab": {
          "base_uri": "https://localhost:8080/",
          "height": 429
        },
        "id": "yFa8EndR73rE",
        "outputId": "c6ebb803-0a58-4f8d-fb83-a8710e8a6f58"
      },
      "execution_count": 48,
      "outputs": [
        {
          "output_type": "execute_result",
          "data": {
            "text/plain": [
              "0     Background Niemann-Pick disease type C (NPC) i...\n",
              "1     Background Metformin toxicity is well known to...\n",
              "2     Background Measuring service use and costs is ...\n",
              "3     Background Substance use and delinquency are c...\n",
              "4     Objectives Intravenous fluids are one of the m...\n",
              "5     Background Integrase strand transfer inhibitor...\n",
              "6     Background Ward rounds are an important and ub...\n",
              "7     Background Major Trauma remains a leading caus...\n",
              "8     Background The early prediction of acute kidne...\n",
              "9     Background Interleukin-33 (IL-33) participates...\n",
              "10    Background Integration of first- and second-ge...\n",
              "Name: abstract, dtype: object"
            ],
            "text/html": [
              "<div>\n",
              "<style scoped>\n",
              "    .dataframe tbody tr th:only-of-type {\n",
              "        vertical-align: middle;\n",
              "    }\n",
              "\n",
              "    .dataframe tbody tr th {\n",
              "        vertical-align: top;\n",
              "    }\n",
              "\n",
              "    .dataframe thead th {\n",
              "        text-align: right;\n",
              "    }\n",
              "</style>\n",
              "<table border=\"1\" class=\"dataframe\">\n",
              "  <thead>\n",
              "    <tr style=\"text-align: right;\">\n",
              "      <th></th>\n",
              "      <th>abstract</th>\n",
              "    </tr>\n",
              "  </thead>\n",
              "  <tbody>\n",
              "    <tr>\n",
              "      <th>0</th>\n",
              "      <td>Background Niemann-Pick disease type C (NPC) i...</td>\n",
              "    </tr>\n",
              "    <tr>\n",
              "      <th>1</th>\n",
              "      <td>Background Metformin toxicity is well known to...</td>\n",
              "    </tr>\n",
              "    <tr>\n",
              "      <th>2</th>\n",
              "      <td>Background Measuring service use and costs is ...</td>\n",
              "    </tr>\n",
              "    <tr>\n",
              "      <th>3</th>\n",
              "      <td>Background Substance use and delinquency are c...</td>\n",
              "    </tr>\n",
              "    <tr>\n",
              "      <th>4</th>\n",
              "      <td>Objectives Intravenous fluids are one of the m...</td>\n",
              "    </tr>\n",
              "    <tr>\n",
              "      <th>5</th>\n",
              "      <td>Background Integrase strand transfer inhibitor...</td>\n",
              "    </tr>\n",
              "    <tr>\n",
              "      <th>6</th>\n",
              "      <td>Background Ward rounds are an important and ub...</td>\n",
              "    </tr>\n",
              "    <tr>\n",
              "      <th>7</th>\n",
              "      <td>Background Major Trauma remains a leading caus...</td>\n",
              "    </tr>\n",
              "    <tr>\n",
              "      <th>8</th>\n",
              "      <td>Background The early prediction of acute kidne...</td>\n",
              "    </tr>\n",
              "    <tr>\n",
              "      <th>9</th>\n",
              "      <td>Background Interleukin-33 (IL-33) participates...</td>\n",
              "    </tr>\n",
              "    <tr>\n",
              "      <th>10</th>\n",
              "      <td>Background Integration of first- and second-ge...</td>\n",
              "    </tr>\n",
              "  </tbody>\n",
              "</table>\n",
              "</div><br><label><b>dtype:</b> object</label>"
            ]
          },
          "metadata": {},
          "execution_count": 48
        }
      ]
    },
    {
      "cell_type": "code",
      "source": [
        "from sentence_transformers import SentenceTransformer"
      ],
      "metadata": {
        "id": "4qw22XgdXWS5"
      },
      "execution_count": null,
      "outputs": []
    },
    {
      "cell_type": "code",
      "source": [
        "encoder = SentenceTransformer('paraphrase-MiniLM-L12-v2')\n",
        "embeddings = encoder.encode(abstracts, show_progress_bar=True)"
      ],
      "metadata": {
        "collapsed": true,
        "id": "Zrr5d_oIYvZA"
      },
      "execution_count": null,
      "outputs": []
    },
    {
      "cell_type": "code",
      "source": [
        "embeddings"
      ],
      "metadata": {
        "id": "vuU3GVSKY5Zt"
      },
      "execution_count": null,
      "outputs": []
    },
    {
      "cell_type": "code",
      "source": [
        "import torch\n",
        "from transformers import AutoTokenizer, AutoModelForMaskedLM, AutoModel"
      ],
      "metadata": {
        "id": "2vWNo8M8HKg7"
      },
      "execution_count": 40,
      "outputs": []
    },
    {
      "cell_type": "code",
      "source": [
        "# Load ModernBERT tokenizer and model from Hugging Face\n",
        "model_name = 'answerdotai/ModernBERT-base'\n",
        "tokenizer = AutoTokenizer.from_pretrained(model_name)\n",
        "model = AutoModelForMaskedLM.from_pretrained(model_name)"
      ],
      "metadata": {
        "collapsed": true,
        "id": "eJf89AnpIQ58"
      },
      "execution_count": 41,
      "outputs": []
    },
    {
      "cell_type": "code",
      "source": [
        "# Function to get inpout text and return full text embedding (Edit code to get embedding sentence by sentence)\n",
        "def get_text_embeddings(text):\n",
        "    # Tokenize input text\n",
        "    inputs = tokenizer(text.tolist(), return_tensors='pt', padding=True, truncation=True)\n",
        "\n",
        "    # Forward pass to get hidden states\n",
        "    with torch.no_grad():\n",
        "        outputs = model(**inputs)\n",
        "\n",
        "    # Get the embeddings (use CLS token for sentence-level embedding)\n",
        "    cls_embedding = outputs.last_hidden_state[:, 0, :]  # shape: [batch_size, hidden_size]\n",
        "\n",
        "    return cls_embedding.squeeze().numpy()"
      ],
      "metadata": {
        "id": "6pWc5BA-Kb-m"
      },
      "execution_count": 47,
      "outputs": []
    },
    {
      "cell_type": "code",
      "source": [
        "# Ensure all text entries are strings (handle potential non-string entries)\n",
        "abstract_cleaned = abstracts.astype(str)\n",
        "\n",
        "# Get embeddings for each abstract\n",
        "full_text_embeddings = get_text_embeddings(abstract_cleaned)\n",
        "\n",
        "# Show results\n",
        "print(\"\\nEmbeddings shape:\", full_text_embeddings.shape)\n",
        "print(\"First embedding vector (10 values):\", full_text_embeddings[0][:10])"
      ],
      "metadata": {
        "id": "i0OFH43JKme9",
        "colab": {
          "base_uri": "https://localhost:8080/",
          "height": 211
        },
        "outputId": "96307a6a-2fc7-4c32-e77b-e7933ab279a5"
      },
      "execution_count": 46,
      "outputs": [
        {
          "output_type": "error",
          "ename": "AttributeError",
          "evalue": "'str' object has no attribute 'astype'",
          "traceback": [
            "\u001b[0;31m---------------------------------------------------------------------------\u001b[0m",
            "\u001b[0;31mAttributeError\u001b[0m                            Traceback (most recent call last)",
            "\u001b[0;32m<ipython-input-46-5bd887a2b807>\u001b[0m in \u001b[0;36m<cell line: 0>\u001b[0;34m()\u001b[0m\n\u001b[1;32m      1\u001b[0m \u001b[0;31m# Ensure all text entries are strings (handle potential non-string entries)\u001b[0m\u001b[0;34m\u001b[0m\u001b[0;34m\u001b[0m\u001b[0m\n\u001b[0;32m----> 2\u001b[0;31m \u001b[0mabstract_cleaned\u001b[0m \u001b[0;34m=\u001b[0m \u001b[0mabstracts\u001b[0m\u001b[0;34m.\u001b[0m\u001b[0mastype\u001b[0m\u001b[0;34m(\u001b[0m\u001b[0mstr\u001b[0m\u001b[0;34m)\u001b[0m\u001b[0;34m\u001b[0m\u001b[0;34m\u001b[0m\u001b[0m\n\u001b[0m\u001b[1;32m      3\u001b[0m \u001b[0;34m\u001b[0m\u001b[0m\n\u001b[1;32m      4\u001b[0m \u001b[0;31m# Get embeddings for each abstract\u001b[0m\u001b[0;34m\u001b[0m\u001b[0;34m\u001b[0m\u001b[0m\n\u001b[1;32m      5\u001b[0m \u001b[0mfull_text_embeddings\u001b[0m \u001b[0;34m=\u001b[0m \u001b[0mget_text_embeddings\u001b[0m\u001b[0;34m(\u001b[0m\u001b[0mabstract_cleaned\u001b[0m\u001b[0;34m)\u001b[0m\u001b[0;34m\u001b[0m\u001b[0;34m\u001b[0m\u001b[0m\n",
            "\u001b[0;31mAttributeError\u001b[0m: 'str' object has no attribute 'astype'"
          ]
        }
      ]
    }
  ]
}